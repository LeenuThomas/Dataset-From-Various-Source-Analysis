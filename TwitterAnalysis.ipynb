{
 "cells": [
  {
   "cell_type": "code",
   "execution_count": 2,
   "id": "f7ce14a3",
   "metadata": {},
   "outputs": [],
   "source": [
    "import re\n",
    "import nltk\n",
    "import pandas as pd \n",
    "import seaborn as sns\n",
    "import matplotlib.pyplot as plt\n",
    "from nltk.corpus import stopwords\n",
    "from nltk.stem import PorterStemmer\n",
    "from nltk.stem.snowball import stopwords"
   ]
  },
  {
   "cell_type": "code",
   "execution_count": 3,
   "id": "f140bd69",
   "metadata": {},
   "outputs": [],
   "source": [
    "dftwitter = pd.read_csv(r\"C:\\Users\\ABRAHAM\\Downloads\\twitter_validation.csv\", encoding='ISO-8859-1', header = None)"
   ]
  },
  {
   "cell_type": "code",
   "execution_count": 4,
   "id": "318f0f70",
   "metadata": {},
   "outputs": [
    {
     "data": {
      "text/html": [
       "<div>\n",
       "<style scoped>\n",
       "    .dataframe tbody tr th:only-of-type {\n",
       "        vertical-align: middle;\n",
       "    }\n",
       "\n",
       "    .dataframe tbody tr th {\n",
       "        vertical-align: top;\n",
       "    }\n",
       "\n",
       "    .dataframe thead th {\n",
       "        text-align: right;\n",
       "    }\n",
       "</style>\n",
       "<table border=\"1\" class=\"dataframe\">\n",
       "  <thead>\n",
       "    <tr style=\"text-align: right;\">\n",
       "      <th></th>\n",
       "      <th>0</th>\n",
       "      <th>1</th>\n",
       "      <th>2</th>\n",
       "      <th>3</th>\n",
       "    </tr>\n",
       "  </thead>\n",
       "  <tbody>\n",
       "    <tr>\n",
       "      <th>0</th>\n",
       "      <td>3364</td>\n",
       "      <td>Facebook</td>\n",
       "      <td>Irrelevant</td>\n",
       "      <td>I mentioned on Facebook that I was struggling ...</td>\n",
       "    </tr>\n",
       "    <tr>\n",
       "      <th>1</th>\n",
       "      <td>352</td>\n",
       "      <td>Amazon</td>\n",
       "      <td>Neutral</td>\n",
       "      <td>BBC News - Amazon boss Jeff Bezos rejects clai...</td>\n",
       "    </tr>\n",
       "    <tr>\n",
       "      <th>2</th>\n",
       "      <td>8312</td>\n",
       "      <td>Microsoft</td>\n",
       "      <td>Negative</td>\n",
       "      <td>@Microsoft Why do I pay for WORD when it funct...</td>\n",
       "    </tr>\n",
       "    <tr>\n",
       "      <th>3</th>\n",
       "      <td>4371</td>\n",
       "      <td>CS-GO</td>\n",
       "      <td>Negative</td>\n",
       "      <td>CSGO matchmaking is so full of closet hacking,...</td>\n",
       "    </tr>\n",
       "    <tr>\n",
       "      <th>4</th>\n",
       "      <td>4433</td>\n",
       "      <td>Google</td>\n",
       "      <td>Neutral</td>\n",
       "      <td>Now the President is slapping Americans in the...</td>\n",
       "    </tr>\n",
       "    <tr>\n",
       "      <th>...</th>\n",
       "      <td>...</td>\n",
       "      <td>...</td>\n",
       "      <td>...</td>\n",
       "      <td>...</td>\n",
       "    </tr>\n",
       "    <tr>\n",
       "      <th>995</th>\n",
       "      <td>4891</td>\n",
       "      <td>GrandTheftAuto(GTA)</td>\n",
       "      <td>Irrelevant</td>\n",
       "      <td>â­ï¸ Toronto is the arts and culture capital...</td>\n",
       "    </tr>\n",
       "    <tr>\n",
       "      <th>996</th>\n",
       "      <td>4359</td>\n",
       "      <td>CS-GO</td>\n",
       "      <td>Irrelevant</td>\n",
       "      <td>tHIS IS ACTUALLY A GOOD MOVE TOT BRING MORE VI...</td>\n",
       "    </tr>\n",
       "    <tr>\n",
       "      <th>997</th>\n",
       "      <td>2652</td>\n",
       "      <td>Borderlands</td>\n",
       "      <td>Positive</td>\n",
       "      <td>Today sucked so itâs time to drink wine n pl...</td>\n",
       "    </tr>\n",
       "    <tr>\n",
       "      <th>998</th>\n",
       "      <td>8069</td>\n",
       "      <td>Microsoft</td>\n",
       "      <td>Positive</td>\n",
       "      <td>Bought a fraction of Microsoft today. Small wins.</td>\n",
       "    </tr>\n",
       "    <tr>\n",
       "      <th>999</th>\n",
       "      <td>6960</td>\n",
       "      <td>johnson&amp;johnson</td>\n",
       "      <td>Neutral</td>\n",
       "      <td>Johnson &amp; Johnson to stop selling talc baby po...</td>\n",
       "    </tr>\n",
       "  </tbody>\n",
       "</table>\n",
       "<p>1000 rows × 4 columns</p>\n",
       "</div>"
      ],
      "text/plain": [
       "        0                    1           2  \\\n",
       "0    3364             Facebook  Irrelevant   \n",
       "1     352               Amazon     Neutral   \n",
       "2    8312            Microsoft    Negative   \n",
       "3    4371                CS-GO    Negative   \n",
       "4    4433               Google     Neutral   \n",
       "..    ...                  ...         ...   \n",
       "995  4891  GrandTheftAuto(GTA)  Irrelevant   \n",
       "996  4359                CS-GO  Irrelevant   \n",
       "997  2652          Borderlands    Positive   \n",
       "998  8069            Microsoft    Positive   \n",
       "999  6960      johnson&johnson     Neutral   \n",
       "\n",
       "                                                     3  \n",
       "0    I mentioned on Facebook that I was struggling ...  \n",
       "1    BBC News - Amazon boss Jeff Bezos rejects clai...  \n",
       "2    @Microsoft Why do I pay for WORD when it funct...  \n",
       "3    CSGO matchmaking is so full of closet hacking,...  \n",
       "4    Now the President is slapping Americans in the...  \n",
       "..                                                 ...  \n",
       "995  â­ï¸ Toronto is the arts and culture capital...  \n",
       "996  tHIS IS ACTUALLY A GOOD MOVE TOT BRING MORE VI...  \n",
       "997  Today sucked so itâs time to drink wine n pl...  \n",
       "998  Bought a fraction of Microsoft today. Small wins.  \n",
       "999  Johnson & Johnson to stop selling talc baby po...  \n",
       "\n",
       "[1000 rows x 4 columns]"
      ]
     },
     "execution_count": 4,
     "metadata": {},
     "output_type": "execute_result"
    }
   ],
   "source": [
    "dftwitter"
   ]
  },
  {
   "cell_type": "code",
   "execution_count": 5,
   "id": "69312c0c",
   "metadata": {},
   "outputs": [],
   "source": [
    "dftwitter.columns = [\"Id\",\"Location\", \"Target\", \"Text\"]"
   ]
  },
  {
   "cell_type": "code",
   "execution_count": 6,
   "id": "9550b2ca",
   "metadata": {},
   "outputs": [
    {
     "data": {
      "text/html": [
       "<div>\n",
       "<style scoped>\n",
       "    .dataframe tbody tr th:only-of-type {\n",
       "        vertical-align: middle;\n",
       "    }\n",
       "\n",
       "    .dataframe tbody tr th {\n",
       "        vertical-align: top;\n",
       "    }\n",
       "\n",
       "    .dataframe thead th {\n",
       "        text-align: right;\n",
       "    }\n",
       "</style>\n",
       "<table border=\"1\" class=\"dataframe\">\n",
       "  <thead>\n",
       "    <tr style=\"text-align: right;\">\n",
       "      <th></th>\n",
       "      <th>Id</th>\n",
       "      <th>Location</th>\n",
       "      <th>Target</th>\n",
       "      <th>Text</th>\n",
       "    </tr>\n",
       "  </thead>\n",
       "  <tbody>\n",
       "    <tr>\n",
       "      <th>0</th>\n",
       "      <td>3364</td>\n",
       "      <td>Facebook</td>\n",
       "      <td>Irrelevant</td>\n",
       "      <td>I mentioned on Facebook that I was struggling ...</td>\n",
       "    </tr>\n",
       "    <tr>\n",
       "      <th>1</th>\n",
       "      <td>352</td>\n",
       "      <td>Amazon</td>\n",
       "      <td>Neutral</td>\n",
       "      <td>BBC News - Amazon boss Jeff Bezos rejects clai...</td>\n",
       "    </tr>\n",
       "    <tr>\n",
       "      <th>2</th>\n",
       "      <td>8312</td>\n",
       "      <td>Microsoft</td>\n",
       "      <td>Negative</td>\n",
       "      <td>@Microsoft Why do I pay for WORD when it funct...</td>\n",
       "    </tr>\n",
       "    <tr>\n",
       "      <th>3</th>\n",
       "      <td>4371</td>\n",
       "      <td>CS-GO</td>\n",
       "      <td>Negative</td>\n",
       "      <td>CSGO matchmaking is so full of closet hacking,...</td>\n",
       "    </tr>\n",
       "    <tr>\n",
       "      <th>4</th>\n",
       "      <td>4433</td>\n",
       "      <td>Google</td>\n",
       "      <td>Neutral</td>\n",
       "      <td>Now the President is slapping Americans in the...</td>\n",
       "    </tr>\n",
       "  </tbody>\n",
       "</table>\n",
       "</div>"
      ],
      "text/plain": [
       "     Id   Location      Target  \\\n",
       "0  3364   Facebook  Irrelevant   \n",
       "1   352     Amazon     Neutral   \n",
       "2  8312  Microsoft    Negative   \n",
       "3  4371      CS-GO    Negative   \n",
       "4  4433     Google     Neutral   \n",
       "\n",
       "                                                Text  \n",
       "0  I mentioned on Facebook that I was struggling ...  \n",
       "1  BBC News - Amazon boss Jeff Bezos rejects clai...  \n",
       "2  @Microsoft Why do I pay for WORD when it funct...  \n",
       "3  CSGO matchmaking is so full of closet hacking,...  \n",
       "4  Now the President is slapping Americans in the...  "
      ]
     },
     "execution_count": 6,
     "metadata": {},
     "output_type": "execute_result"
    }
   ],
   "source": [
    "dftwitter.head()"
   ]
  },
  {
   "cell_type": "code",
   "execution_count": 7,
   "id": "1983919b",
   "metadata": {},
   "outputs": [
    {
     "data": {
      "text/html": [
       "<div>\n",
       "<style scoped>\n",
       "    .dataframe tbody tr th:only-of-type {\n",
       "        vertical-align: middle;\n",
       "    }\n",
       "\n",
       "    .dataframe tbody tr th {\n",
       "        vertical-align: top;\n",
       "    }\n",
       "\n",
       "    .dataframe thead th {\n",
       "        text-align: right;\n",
       "    }\n",
       "</style>\n",
       "<table border=\"1\" class=\"dataframe\">\n",
       "  <thead>\n",
       "    <tr style=\"text-align: right;\">\n",
       "      <th></th>\n",
       "      <th>Id</th>\n",
       "      <th>Location</th>\n",
       "      <th>Target</th>\n",
       "      <th>Text</th>\n",
       "    </tr>\n",
       "  </thead>\n",
       "  <tbody>\n",
       "    <tr>\n",
       "      <th>978</th>\n",
       "      <td>10128</td>\n",
       "      <td>PlayerUnknownsBattlegrounds(PUBG)</td>\n",
       "      <td>Irrelevant</td>\n",
       "      <td>How Abhijeet Bhayya ur efforts are incredible ...</td>\n",
       "    </tr>\n",
       "    <tr>\n",
       "      <th>76</th>\n",
       "      <td>9857</td>\n",
       "      <td>PlayStation5(PS5)</td>\n",
       "      <td>Positive</td>\n",
       "      <td>oooooh shit i think my motherboard is already ...</td>\n",
       "    </tr>\n",
       "    <tr>\n",
       "      <th>987</th>\n",
       "      <td>4905</td>\n",
       "      <td>GrandTheftAuto(GTA)</td>\n",
       "      <td>Irrelevant</td>\n",
       "      <td>The ultimate pruning machine! @stihlusa GTA 26...</td>\n",
       "    </tr>\n",
       "    <tr>\n",
       "      <th>159</th>\n",
       "      <td>11977</td>\n",
       "      <td>Verizon</td>\n",
       "      <td>Positive</td>\n",
       "      <td>Exciting news! Verizon, Ericsson and Qualcomm ...</td>\n",
       "    </tr>\n",
       "    <tr>\n",
       "      <th>680</th>\n",
       "      <td>9940</td>\n",
       "      <td>PlayStation5(PS5)</td>\n",
       "      <td>Neutral</td>\n",
       "      <td>Watch The New PlayStation 5 Demonâs SoulsÂ T...</td>\n",
       "    </tr>\n",
       "    <tr>\n",
       "      <th>723</th>\n",
       "      <td>11155</td>\n",
       "      <td>TomClancysGhostRecon</td>\n",
       "      <td>Neutral</td>\n",
       "      <td>I'm getting some Resident Evil vibes from my c...</td>\n",
       "    </tr>\n",
       "    <tr>\n",
       "      <th>577</th>\n",
       "      <td>813</td>\n",
       "      <td>AssassinsCreed</td>\n",
       "      <td>Neutral</td>\n",
       "      <td>ð¥  ð¥  We're gonna try to save some histo...</td>\n",
       "    </tr>\n",
       "    <tr>\n",
       "      <th>134</th>\n",
       "      <td>7458</td>\n",
       "      <td>LeagueOfLegends</td>\n",
       "      <td>Positive</td>\n",
       "      <td>Nothing like getting two leavers in the game t...</td>\n",
       "    </tr>\n",
       "    <tr>\n",
       "      <th>774</th>\n",
       "      <td>3558</td>\n",
       "      <td>Facebook</td>\n",
       "      <td>Neutral</td>\n",
       "      <td>Update: Chase emailed me from an anonymous ema...</td>\n",
       "    </tr>\n",
       "    <tr>\n",
       "      <th>509</th>\n",
       "      <td>586</td>\n",
       "      <td>ApexLegends</td>\n",
       "      <td>Positive</td>\n",
       "      <td>It was a good day in #ApexLegends #XboxShare p...</td>\n",
       "    </tr>\n",
       "  </tbody>\n",
       "</table>\n",
       "</div>"
      ],
      "text/plain": [
       "        Id                           Location      Target  \\\n",
       "978  10128  PlayerUnknownsBattlegrounds(PUBG)  Irrelevant   \n",
       "76    9857                  PlayStation5(PS5)    Positive   \n",
       "987   4905                GrandTheftAuto(GTA)  Irrelevant   \n",
       "159  11977                            Verizon    Positive   \n",
       "680   9940                  PlayStation5(PS5)     Neutral   \n",
       "723  11155               TomClancysGhostRecon     Neutral   \n",
       "577    813                     AssassinsCreed     Neutral   \n",
       "134   7458                    LeagueOfLegends    Positive   \n",
       "774   3558                           Facebook     Neutral   \n",
       "509    586                        ApexLegends    Positive   \n",
       "\n",
       "                                                  Text  \n",
       "978  How Abhijeet Bhayya ur efforts are incredible ...  \n",
       "76   oooooh shit i think my motherboard is already ...  \n",
       "987  The ultimate pruning machine! @stihlusa GTA 26...  \n",
       "159  Exciting news! Verizon, Ericsson and Qualcomm ...  \n",
       "680  Watch The New PlayStation 5 Demonâs SoulsÂ T...  \n",
       "723  I'm getting some Resident Evil vibes from my c...  \n",
       "577  ð¥  ð¥  We're gonna try to save some histo...  \n",
       "134  Nothing like getting two leavers in the game t...  \n",
       "774  Update: Chase emailed me from an anonymous ema...  \n",
       "509  It was a good day in #ApexLegends #XboxShare p...  "
      ]
     },
     "execution_count": 7,
     "metadata": {},
     "output_type": "execute_result"
    }
   ],
   "source": [
    "dftwitter.sample(10)"
   ]
  },
  {
   "cell_type": "code",
   "execution_count": 8,
   "id": "3227d886",
   "metadata": {},
   "outputs": [
    {
     "name": "stdout",
     "output_type": "stream",
     "text": [
      "<class 'pandas.core.frame.DataFrame'>\n",
      "RangeIndex: 1000 entries, 0 to 999\n",
      "Data columns (total 4 columns):\n",
      " #   Column    Non-Null Count  Dtype \n",
      "---  ------    --------------  ----- \n",
      " 0   Id        1000 non-null   int64 \n",
      " 1   Location  1000 non-null   object\n",
      " 2   Target    1000 non-null   object\n",
      " 3   Text      1000 non-null   object\n",
      "dtypes: int64(1), object(3)\n",
      "memory usage: 31.4+ KB\n"
     ]
    }
   ],
   "source": [
    "dftwitter.info()"
   ]
  },
  {
   "cell_type": "code",
   "execution_count": 9,
   "id": "e20056b8",
   "metadata": {},
   "outputs": [
    {
     "data": {
      "text/plain": [
       "Id          0\n",
       "Location    0\n",
       "Target      0\n",
       "Text        0\n",
       "dtype: int64"
      ]
     },
     "execution_count": 9,
     "metadata": {},
     "output_type": "execute_result"
    }
   ],
   "source": [
    "dftwitter.isna().sum()"
   ]
  },
  {
   "cell_type": "code",
   "execution_count": 10,
   "id": "12af1a8e",
   "metadata": {},
   "outputs": [
    {
     "data": {
      "text/plain": [
       "(1000, 4)"
      ]
     },
     "execution_count": 10,
     "metadata": {},
     "output_type": "execute_result"
    }
   ],
   "source": [
    "dftwitter.shape"
   ]
  },
  {
   "cell_type": "code",
   "execution_count": 11,
   "id": "41e2e21c",
   "metadata": {},
   "outputs": [
    {
     "data": {
      "text/plain": [
       "Neutral       285\n",
       "Positive      277\n",
       "Negative      266\n",
       "Irrelevant    172\n",
       "Name: Target, dtype: int64"
      ]
     },
     "execution_count": 11,
     "metadata": {},
     "output_type": "execute_result"
    }
   ],
   "source": [
    "dftwitter.Target.value_counts()"
   ]
  },
  {
   "cell_type": "code",
   "execution_count": 12,
   "id": "916b172b",
   "metadata": {},
   "outputs": [],
   "source": [
    "#plt.(dftwitter['Target'])"
   ]
  },
  {
   "cell_type": "code",
   "execution_count": 13,
   "id": "889c4d35",
   "metadata": {},
   "outputs": [
    {
     "name": "stderr",
     "output_type": "stream",
     "text": [
      "C:\\ProgramData\\Anaconda3\\lib\\site-packages\\seaborn\\_decorators.py:36: FutureWarning: Pass the following variable as a keyword arg: x. From version 0.12, the only valid positional argument will be `data`, and passing other arguments without an explicit keyword will result in an error or misinterpretation.\n",
      "  warnings.warn(\n"
     ]
    },
    {
     "data": {
      "text/plain": [
       "<AxesSubplot:xlabel='Target', ylabel='count'>"
      ]
     },
     "execution_count": 13,
     "metadata": {},
     "output_type": "execute_result"
    },
    {
     "data": {
      "image/png": "[encoded data removed]",
      "text/plain": [
       "<Figure size 432x288 with 1 Axes>"
      ]
     },
     "metadata": {
      "needs_background": "light"
     },
     "output_type": "display_data"
    }
   ],
   "source": [
    "sns.countplot(dftwitter['Target'])"
   ]
  },
  {
   "cell_type": "code",
   "execution_count": 14,
   "id": "70bc7bfc",
   "metadata": {},
   "outputs": [],
   "source": [
    "dftwitter.drop(dftwitter.index[(dftwitter['Target']=='Irrelevant')],inplace = True, axis =0)"
   ]
  },
  {
   "cell_type": "code",
   "execution_count": 15,
   "id": "63e4ab7e",
   "metadata": {},
   "outputs": [
    {
     "data": {
      "text/plain": [
       "3312"
      ]
     },
     "execution_count": 15,
     "metadata": {},
     "output_type": "execute_result"
    }
   ],
   "source": [
    "dftwitter.size"
   ]
  },
  {
   "cell_type": "code",
   "execution_count": 16,
   "id": "0f5ea7b5",
   "metadata": {},
   "outputs": [],
   "source": [
    "dftwitter.reset_index(drop = True, inplace = True)"
   ]
  },
  {
   "cell_type": "code",
   "execution_count": 17,
   "id": "3ca869d4",
   "metadata": {},
   "outputs": [
    {
     "name": "stderr",
     "output_type": "stream",
     "text": [
      "C:\\ProgramData\\Anaconda3\\lib\\site-packages\\seaborn\\_decorators.py:36: FutureWarning: Pass the following variable as a keyword arg: x. From version 0.12, the only valid positional argument will be `data`, and passing other arguments without an explicit keyword will result in an error or misinterpretation.\n",
      "  warnings.warn(\n"
     ]
    },
    {
     "data": {
      "text/plain": [
       "<AxesSubplot:xlabel='Target', ylabel='count'>"
      ]
     },
     "execution_count": 17,
     "metadata": {},
     "output_type": "execute_result"
    },
    {
     "data": {
      "image/png": "[encoded data removed]",
      "text/plain": [
       "<Figure size 432x288 with 1 Axes>"
      ]
     },
     "metadata": {
      "needs_background": "light"
     },
     "output_type": "display_data"
    }
   ],
   "source": [
    "sns.countplot(dftwitter['Target'])"
   ]
  },
  {
   "cell_type": "code",
   "execution_count": 18,
   "id": "b58df1ad",
   "metadata": {},
   "outputs": [],
   "source": [
    "dftwitter.drop([\"Id\",\"Location\"], axis =1, inplace = True)"
   ]
  },
  {
   "cell_type": "code",
   "execution_count": 19,
   "id": "1055d05a",
   "metadata": {},
   "outputs": [
    {
     "data": {
      "text/html": [
       "<div>\n",
       "<style scoped>\n",
       "    .dataframe tbody tr th:only-of-type {\n",
       "        vertical-align: middle;\n",
       "    }\n",
       "\n",
       "    .dataframe tbody tr th {\n",
       "        vertical-align: top;\n",
       "    }\n",
       "\n",
       "    .dataframe thead th {\n",
       "        text-align: right;\n",
       "    }\n",
       "</style>\n",
       "<table border=\"1\" class=\"dataframe\">\n",
       "  <thead>\n",
       "    <tr style=\"text-align: right;\">\n",
       "      <th></th>\n",
       "      <th>Target</th>\n",
       "      <th>Text</th>\n",
       "    </tr>\n",
       "  </thead>\n",
       "  <tbody>\n",
       "    <tr>\n",
       "      <th>0</th>\n",
       "      <td>Neutral</td>\n",
       "      <td>BBC News - Amazon boss Jeff Bezos rejects clai...</td>\n",
       "    </tr>\n",
       "    <tr>\n",
       "      <th>1</th>\n",
       "      <td>Negative</td>\n",
       "      <td>@Microsoft Why do I pay for WORD when it funct...</td>\n",
       "    </tr>\n",
       "    <tr>\n",
       "      <th>2</th>\n",
       "      <td>Negative</td>\n",
       "      <td>CSGO matchmaking is so full of closet hacking,...</td>\n",
       "    </tr>\n",
       "    <tr>\n",
       "      <th>3</th>\n",
       "      <td>Neutral</td>\n",
       "      <td>Now the President is slapping Americans in the...</td>\n",
       "    </tr>\n",
       "    <tr>\n",
       "      <th>4</th>\n",
       "      <td>Negative</td>\n",
       "      <td>Hi @EAHelp Iâve had Madeleine McCann in my c...</td>\n",
       "    </tr>\n",
       "    <tr>\n",
       "      <th>...</th>\n",
       "      <td>...</td>\n",
       "      <td>...</td>\n",
       "    </tr>\n",
       "    <tr>\n",
       "      <th>823</th>\n",
       "      <td>Negative</td>\n",
       "      <td>Please explain how this is possible! How can t...</td>\n",
       "    </tr>\n",
       "    <tr>\n",
       "      <th>824</th>\n",
       "      <td>Positive</td>\n",
       "      <td>Good on Sony. As much as I want to see the new...</td>\n",
       "    </tr>\n",
       "    <tr>\n",
       "      <th>825</th>\n",
       "      <td>Positive</td>\n",
       "      <td>Today sucked so itâs time to drink wine n pl...</td>\n",
       "    </tr>\n",
       "    <tr>\n",
       "      <th>826</th>\n",
       "      <td>Positive</td>\n",
       "      <td>Bought a fraction of Microsoft today. Small wins.</td>\n",
       "    </tr>\n",
       "    <tr>\n",
       "      <th>827</th>\n",
       "      <td>Neutral</td>\n",
       "      <td>Johnson &amp; Johnson to stop selling talc baby po...</td>\n",
       "    </tr>\n",
       "  </tbody>\n",
       "</table>\n",
       "<p>828 rows × 2 columns</p>\n",
       "</div>"
      ],
      "text/plain": [
       "       Target                                               Text\n",
       "0     Neutral  BBC News - Amazon boss Jeff Bezos rejects clai...\n",
       "1    Negative  @Microsoft Why do I pay for WORD when it funct...\n",
       "2    Negative  CSGO matchmaking is so full of closet hacking,...\n",
       "3     Neutral  Now the President is slapping Americans in the...\n",
       "4    Negative  Hi @EAHelp Iâve had Madeleine McCann in my c...\n",
       "..        ...                                                ...\n",
       "823  Negative  Please explain how this is possible! How can t...\n",
       "824  Positive  Good on Sony. As much as I want to see the new...\n",
       "825  Positive  Today sucked so itâs time to drink wine n pl...\n",
       "826  Positive  Bought a fraction of Microsoft today. Small wins.\n",
       "827   Neutral  Johnson & Johnson to stop selling talc baby po...\n",
       "\n",
       "[828 rows x 2 columns]"
      ]
     },
     "execution_count": 19,
     "metadata": {},
     "output_type": "execute_result"
    }
   ],
   "source": [
    "dftwitter"
   ]
  },
  {
   "cell_type": "code",
   "execution_count": 20,
   "id": "11185715",
   "metadata": {},
   "outputs": [
    {
     "data": {
      "text/html": [
       "<div>\n",
       "<style scoped>\n",
       "    .dataframe tbody tr th:only-of-type {\n",
       "        vertical-align: middle;\n",
       "    }\n",
       "\n",
       "    .dataframe tbody tr th {\n",
       "        vertical-align: top;\n",
       "    }\n",
       "\n",
       "    .dataframe thead th {\n",
       "        text-align: right;\n",
       "    }\n",
       "</style>\n",
       "<table border=\"1\" class=\"dataframe\">\n",
       "  <thead>\n",
       "    <tr style=\"text-align: right;\">\n",
       "      <th></th>\n",
       "      <th>Target</th>\n",
       "      <th>Text</th>\n",
       "    </tr>\n",
       "  </thead>\n",
       "  <tbody>\n",
       "    <tr>\n",
       "      <th>0</th>\n",
       "      <td>0</td>\n",
       "      <td>BBC News - Amazon boss Jeff Bezos rejects clai...</td>\n",
       "    </tr>\n",
       "    <tr>\n",
       "      <th>1</th>\n",
       "      <td>-1</td>\n",
       "      <td>@Microsoft Why do I pay for WORD when it funct...</td>\n",
       "    </tr>\n",
       "    <tr>\n",
       "      <th>2</th>\n",
       "      <td>-1</td>\n",
       "      <td>CSGO matchmaking is so full of closet hacking,...</td>\n",
       "    </tr>\n",
       "    <tr>\n",
       "      <th>3</th>\n",
       "      <td>0</td>\n",
       "      <td>Now the President is slapping Americans in the...</td>\n",
       "    </tr>\n",
       "    <tr>\n",
       "      <th>4</th>\n",
       "      <td>-1</td>\n",
       "      <td>Hi @EAHelp Iâve had Madeleine McCann in my c...</td>\n",
       "    </tr>\n",
       "    <tr>\n",
       "      <th>...</th>\n",
       "      <td>...</td>\n",
       "      <td>...</td>\n",
       "    </tr>\n",
       "    <tr>\n",
       "      <th>823</th>\n",
       "      <td>-1</td>\n",
       "      <td>Please explain how this is possible! How can t...</td>\n",
       "    </tr>\n",
       "    <tr>\n",
       "      <th>824</th>\n",
       "      <td>1</td>\n",
       "      <td>Good on Sony. As much as I want to see the new...</td>\n",
       "    </tr>\n",
       "    <tr>\n",
       "      <th>825</th>\n",
       "      <td>1</td>\n",
       "      <td>Today sucked so itâs time to drink wine n pl...</td>\n",
       "    </tr>\n",
       "    <tr>\n",
       "      <th>826</th>\n",
       "      <td>1</td>\n",
       "      <td>Bought a fraction of Microsoft today. Small wins.</td>\n",
       "    </tr>\n",
       "    <tr>\n",
       "      <th>827</th>\n",
       "      <td>0</td>\n",
       "      <td>Johnson &amp; Johnson to stop selling talc baby po...</td>\n",
       "    </tr>\n",
       "  </tbody>\n",
       "</table>\n",
       "<p>828 rows × 2 columns</p>\n",
       "</div>"
      ],
      "text/plain": [
       "     Target                                               Text\n",
       "0         0  BBC News - Amazon boss Jeff Bezos rejects clai...\n",
       "1        -1  @Microsoft Why do I pay for WORD when it funct...\n",
       "2        -1  CSGO matchmaking is so full of closet hacking,...\n",
       "3         0  Now the President is slapping Americans in the...\n",
       "4        -1  Hi @EAHelp Iâve had Madeleine McCann in my c...\n",
       "..      ...                                                ...\n",
       "823      -1  Please explain how this is possible! How can t...\n",
       "824       1  Good on Sony. As much as I want to see the new...\n",
       "825       1  Today sucked so itâs time to drink wine n pl...\n",
       "826       1  Bought a fraction of Microsoft today. Small wins.\n",
       "827       0  Johnson & Johnson to stop selling talc baby po...\n",
       "\n",
       "[828 rows x 2 columns]"
      ]
     },
     "execution_count": 20,
     "metadata": {},
     "output_type": "execute_result"
    }
   ],
   "source": [
    "sentiment_map = {\n",
    "    'Positive': 1,\n",
    "    'Negative': -1,\n",
    "    'Neutral': 0\n",
    "}\n",
    "\n",
    "# Map the values in 'sentiment' column using the mapping dictionary\n",
    "dftwitter['Target'] = dftwitter['Target'].map(sentiment_map)\n",
    "\n",
    "dftwitter"
   ]
  },
  {
   "cell_type": "code",
   "execution_count": 21,
   "id": "f4b01997",
   "metadata": {},
   "outputs": [
    {
     "data": {
      "text/plain": [
       "Target     int64\n",
       "Text      object\n",
       "dtype: object"
      ]
     },
     "execution_count": 21,
     "metadata": {},
     "output_type": "execute_result"
    }
   ],
   "source": [
    "dftwitter.dtypes"
   ]
  },
  {
   "cell_type": "code",
   "execution_count": 22,
   "id": "00b99e04",
   "metadata": {},
   "outputs": [],
   "source": [
    "X = dftwitter['Text']"
   ]
  },
  {
   "cell_type": "code",
   "execution_count": 23,
   "id": "e8fad86b",
   "metadata": {},
   "outputs": [
    {
     "name": "stderr",
     "output_type": "stream",
     "text": [
      "[nltk_data] Downloading package wordnet to\n",
      "[nltk_data]     C:\\Users\\ABRAHAM\\AppData\\Roaming\\nltk_data...\n",
      "[nltk_data]   Package wordnet is already up-to-date!\n"
     ]
    },
    {
     "data": {
      "text/plain": [
       "True"
      ]
     },
     "execution_count": 23,
     "metadata": {},
     "output_type": "execute_result"
    }
   ],
   "source": [
    "nltk.download('wordnet')"
   ]
  },
  {
   "cell_type": "code",
   "execution_count": 24,
   "id": "66e5a070",
   "metadata": {},
   "outputs": [
    {
     "name": "stderr",
     "output_type": "stream",
     "text": [
      "[nltk_data] Downloading package omw-1.4 to\n",
      "[nltk_data]     C:\\Users\\ABRAHAM\\AppData\\Roaming\\nltk_data...\n",
      "[nltk_data]   Package omw-1.4 is already up-to-date!\n"
     ]
    },
    {
     "data": {
      "text/plain": [
       "True"
      ]
     },
     "execution_count": 24,
     "metadata": {},
     "output_type": "execute_result"
    }
   ],
   "source": [
    "nltk.download('omw-1.4')"
   ]
  },
  {
   "cell_type": "code",
   "execution_count": 25,
   "id": "b67ce311",
   "metadata": {},
   "outputs": [],
   "source": [
    "from nltk.tokenize import TweetTokenizer"
   ]
  },
  {
   "cell_type": "code",
   "execution_count": 26,
   "id": "5b203532",
   "metadata": {},
   "outputs": [],
   "source": [
    "objTocken = TweetTokenizer()"
   ]
  },
  {
   "cell_type": "code",
   "execution_count": 27,
   "id": "9b73f080",
   "metadata": {},
   "outputs": [
    {
     "data": {
      "text/plain": [
       "<nltk.tokenize.casual.TweetTokenizer at 0x154b8956370>"
      ]
     },
     "execution_count": 27,
     "metadata": {},
     "output_type": "execute_result"
    }
   ],
   "source": [
    "objTocken"
   ]
  },
  {
   "cell_type": "code",
   "execution_count": 28,
   "id": "a780e972",
   "metadata": {},
   "outputs": [],
   "source": [
    "#X.apply( lambda x: objTocken.tokenize(x))"
   ]
  },
  {
   "cell_type": "code",
   "execution_count": 29,
   "id": "0ceb40aa",
   "metadata": {},
   "outputs": [],
   "source": [
    "#Y = X.apply(lambda x: objTocken.tokenize(x)).apply(lambda x: \" \".join(x))"
   ]
  },
  {
   "cell_type": "code",
   "execution_count": 30,
   "id": "eea2f55d",
   "metadata": {},
   "outputs": [],
   "source": [
    "#X=X.apply(lambda x:tk.TweetTokenizer(x)).apply(lambda x:\" \".join(x))\n",
    "X=X.apply(lambda x:objTocken.tokenize(x)).apply(lambda x:\" \".join(x))"
   ]
  },
  {
   "cell_type": "code",
   "execution_count": 31,
   "id": "0d276c2d",
   "metadata": {},
   "outputs": [
    {
     "data": {
      "text/plain": [
       "0      BBC News - Amazon boss Jeff Bezos rejects clai...\n",
       "1      @Microsoft Why do I pay for WORD when it funct...\n",
       "2      CSGO matchmaking is so full of closet hacking ...\n",
       "3      Now the President is slapping Americans in the...\n",
       "4      Hi @EAHelp Iâ   ve had Madeleine McCann in m...\n",
       "                             ...                        \n",
       "823    Please explain how this is possible ! How can ...\n",
       "824    Good on Sony . As much as I want to see the ne...\n",
       "825    Today sucked so itâ   s time to drink wine n...\n",
       "826    Bought a fraction of Microsoft today . Small w...\n",
       "827    Johnson & Johnson to stop selling talc baby po...\n",
       "Name: Text, Length: 828, dtype: object"
      ]
     },
     "execution_count": 31,
     "metadata": {},
     "output_type": "execute_result"
    }
   ],
   "source": [
    "X"
   ]
  },
  {
   "cell_type": "code",
   "execution_count": 37,
   "id": "f7adbfb5",
   "metadata": {},
   "outputs": [
    {
     "name": "stderr",
     "output_type": "stream",
     "text": [
      "C:\\Users\\ABRAHAM\\AppData\\Local\\Temp\\ipykernel_9860\\3169187002.py:1: FutureWarning: The default value of regex will change from True to False in a future version.\n",
      "  X = X.str.replace('[^a-zA-Z-0-9]+-@',' ')\n"
     ]
    }
   ],
   "source": [
    "X = X.str.replace('[^a-zA-Z-0-9]+-@',' ')"
   ]
  },
  {
   "cell_type": "code",
   "execution_count": 38,
   "id": "b9b7d4c3",
   "metadata": {},
   "outputs": [
    {
     "data": {
      "text/plain": [
       "0      BBC News  Amazon boss Jeff Bezos rejects claim...\n",
       "1      @Microsoft Why do I pay for WORD when it funct...\n",
       "2      CSGO matchmaking is so full of closet hacking ...\n",
       "3      Now the President is slapping Americans in the...\n",
       "4      Hi @EAHelp Iâ   ve had Madeleine McCann in m...\n",
       "                             ...                        \n",
       "823    Please explain how this is possible ! How can ...\n",
       "824    Good on Sony . As much as I want to see the ne...\n",
       "825    Today sucked so itâ   s time to drink wine n...\n",
       "826    Bought a fraction of Microsoft today . Small w...\n",
       "827    Johnson & Johnson to stop selling talc baby po...\n",
       "Name: Text, Length: 828, dtype: object"
      ]
     },
     "execution_count": 38,
     "metadata": {},
     "output_type": "execute_result"
    }
   ],
   "source": [
    "X"
   ]
  },
  {
   "cell_type": "code",
   "execution_count": 39,
   "id": "52162923",
   "metadata": {},
   "outputs": [],
   "source": [
    "from nltk.stem import SnowballStemmer"
   ]
  },
  {
   "cell_type": "code",
   "execution_count": 322,
   "id": "4f7d1db9",
   "metadata": {},
   "outputs": [],
   "source": [
    "objStemmer =  SnowballStemmer(language= 'english')"
   ]
  },
  {
   "cell_type": "code",
   "execution_count": 323,
   "id": "797ac6ee",
   "metadata": {},
   "outputs": [],
   "source": [
    "X=X.apply(lambda x:[objStemmer.stem (i.lower()) for i in objTocken.tokenize(x)]).apply(lambda x:\" \".join(x))"
   ]
  },
  {
   "cell_type": "code",
   "execution_count": 324,
   "id": "5cf7a5ca",
   "metadata": {},
   "outputs": [
    {
     "data": {
      "text/plain": [
       "0      bbc news amazon boss jeff bezo reject claim co...\n",
       "1      @microsoft whi do i pay for word when it funct...\n",
       "2      csgo matchmak is so full of closet hack , it a...\n",
       "3      now the presid is slap american in the face th...\n",
       "4      hi @eahelp iâ   ve had madelein mccann in my...\n",
       "                             ...                        \n",
       "823    pleas explain how this is possibl ! how can th...\n",
       "824    good on soni . as much as i want to see the ne...\n",
       "825    today suck so itâ   s time to drink wine n p...\n",
       "826    bought a fraction of microsoft today . small w...\n",
       "827    johnson & johnson to stop sell talc babi powde...\n",
       "Name: Text, Length: 828, dtype: object"
      ]
     },
     "execution_count": 324,
     "metadata": {},
     "output_type": "execute_result"
    }
   ],
   "source": [
    "X"
   ]
  },
  {
   "cell_type": "code",
   "execution_count": 325,
   "id": "bfeee809",
   "metadata": {},
   "outputs": [
    {
     "name": "stderr",
     "output_type": "stream",
     "text": [
      "[nltk_data] Downloading package stopwords to\n",
      "[nltk_data]     C:\\Users\\ABRAHAM\\AppData\\Roaming\\nltk_data...\n",
      "[nltk_data]   Package stopwords is already up-to-date!\n"
     ]
    },
    {
     "data": {
      "text/plain": [
       "True"
      ]
     },
     "execution_count": 325,
     "metadata": {},
     "output_type": "execute_result"
    }
   ],
   "source": [
    "nltk.download('stopwords')"
   ]
  },
  {
   "cell_type": "code",
   "execution_count": 326,
   "id": "ea8c2ed3",
   "metadata": {},
   "outputs": [],
   "source": [
    "\n",
    "# nltk.cor"
   ]
  },
  {
   "cell_type": "code",
   "execution_count": 327,
   "id": "6f7340b7",
   "metadata": {},
   "outputs": [],
   "source": [
    "varStop = stopwords.words('english')"
   ]
  },
  {
   "cell_type": "code",
   "execution_count": 328,
   "id": "0499dea6",
   "metadata": {},
   "outputs": [
    {
     "data": {
      "text/plain": [
       "['i',\n",
       " 'me',\n",
       " 'my',\n",
       " 'myself',\n",
       " 'we',\n",
       " 'our',\n",
       " 'ours',\n",
       " 'ourselves',\n",
       " 'you',\n",
       " \"you're\",\n",
       " \"you've\",\n",
       " \"you'll\",\n",
       " \"you'd\",\n",
       " 'your',\n",
       " 'yours',\n",
       " 'yourself',\n",
       " 'yourselves',\n",
       " 'he',\n",
       " 'him',\n",
       " 'his',\n",
       " 'himself',\n",
       " 'she',\n",
       " \"she's\",\n",
       " 'her',\n",
       " 'hers',\n",
       " 'herself',\n",
       " 'it',\n",
       " \"it's\",\n",
       " 'its',\n",
       " 'itself',\n",
       " 'they',\n",
       " 'them',\n",
       " 'their',\n",
       " 'theirs',\n",
       " 'themselves',\n",
       " 'what',\n",
       " 'which',\n",
       " 'who',\n",
       " 'whom',\n",
       " 'this',\n",
       " 'that',\n",
       " \"that'll\",\n",
       " 'these',\n",
       " 'those',\n",
       " 'am',\n",
       " 'is',\n",
       " 'are',\n",
       " 'was',\n",
       " 'were',\n",
       " 'be',\n",
       " 'been',\n",
       " 'being',\n",
       " 'have',\n",
       " 'has',\n",
       " 'had',\n",
       " 'having',\n",
       " 'do',\n",
       " 'does',\n",
       " 'did',\n",
       " 'doing',\n",
       " 'a',\n",
       " 'an',\n",
       " 'the',\n",
       " 'and',\n",
       " 'but',\n",
       " 'if',\n",
       " 'or',\n",
       " 'because',\n",
       " 'as',\n",
       " 'until',\n",
       " 'while',\n",
       " 'of',\n",
       " 'at',\n",
       " 'by',\n",
       " 'for',\n",
       " 'with',\n",
       " 'about',\n",
       " 'against',\n",
       " 'between',\n",
       " 'into',\n",
       " 'through',\n",
       " 'during',\n",
       " 'before',\n",
       " 'after',\n",
       " 'above',\n",
       " 'below',\n",
       " 'to',\n",
       " 'from',\n",
       " 'up',\n",
       " 'down',\n",
       " 'in',\n",
       " 'out',\n",
       " 'on',\n",
       " 'off',\n",
       " 'over',\n",
       " 'under',\n",
       " 'again',\n",
       " 'further',\n",
       " 'then',\n",
       " 'once',\n",
       " 'here',\n",
       " 'there',\n",
       " 'when',\n",
       " 'where',\n",
       " 'why',\n",
       " 'how',\n",
       " 'all',\n",
       " 'any',\n",
       " 'both',\n",
       " 'each',\n",
       " 'few',\n",
       " 'more',\n",
       " 'most',\n",
       " 'other',\n",
       " 'some',\n",
       " 'such',\n",
       " 'no',\n",
       " 'nor',\n",
       " 'not',\n",
       " 'only',\n",
       " 'own',\n",
       " 'same',\n",
       " 'so',\n",
       " 'than',\n",
       " 'too',\n",
       " 'very',\n",
       " 's',\n",
       " 't',\n",
       " 'can',\n",
       " 'will',\n",
       " 'just',\n",
       " 'don',\n",
       " \"don't\",\n",
       " 'should',\n",
       " \"should've\",\n",
       " 'now',\n",
       " 'd',\n",
       " 'll',\n",
       " 'm',\n",
       " 'o',\n",
       " 're',\n",
       " 've',\n",
       " 'y',\n",
       " 'ain',\n",
       " 'aren',\n",
       " \"aren't\",\n",
       " 'couldn',\n",
       " \"couldn't\",\n",
       " 'didn',\n",
       " \"didn't\",\n",
       " 'doesn',\n",
       " \"doesn't\",\n",
       " 'hadn',\n",
       " \"hadn't\",\n",
       " 'hasn',\n",
       " \"hasn't\",\n",
       " 'haven',\n",
       " \"haven't\",\n",
       " 'isn',\n",
       " \"isn't\",\n",
       " 'ma',\n",
       " 'mightn',\n",
       " \"mightn't\",\n",
       " 'mustn',\n",
       " \"mustn't\",\n",
       " 'needn',\n",
       " \"needn't\",\n",
       " 'shan',\n",
       " \"shan't\",\n",
       " 'shouldn',\n",
       " \"shouldn't\",\n",
       " 'wasn',\n",
       " \"wasn't\",\n",
       " 'weren',\n",
       " \"weren't\",\n",
       " 'won',\n",
       " \"won't\",\n",
       " 'wouldn',\n",
       " \"wouldn't\"]"
      ]
     },
     "execution_count": 328,
     "metadata": {},
     "output_type": "execute_result"
    }
   ],
   "source": [
    "varStop"
   ]
  },
  {
   "cell_type": "code",
   "execution_count": 329,
   "id": "803ac910",
   "metadata": {},
   "outputs": [],
   "source": [
    "#for i in objTocken.tokenize(X):\n",
    " #   if i not in varStop:\n",
    "X =  X.apply(lambda x: [i for i in objTocken.tokenize(x) if i not in varStop] ).apply(lambda x:\" \".join(x))\n",
    "        "
   ]
  },
  {
   "cell_type": "code",
   "execution_count": 330,
   "id": "e41c694c",
   "metadata": {},
   "outputs": [
    {
     "data": {
      "text/plain": [
       "0      bbc news amazon boss jeff bezo reject claim co...\n",
       "1      @microsoft whi pay word function poor @samsung...\n",
       "2       csgo matchmak full closet hack , truli aw game .\n",
       "3      presid slap american face realli commit unlaw ...\n",
       "4      hi @eahelp iâ   madelein mccann cellar past ...\n",
       "                             ...                        \n",
       "823    pleas explain possibl ! let compani overcharg ...\n",
       "824    good soni . much want see new ps5 , go right m...\n",
       "825    today suck itâ   time drink wine n play bord...\n",
       "826        bought fraction microsoft today . small win .\n",
       "827    johnson & johnson stop sell talc babi powder u...\n",
       "Name: Text, Length: 828, dtype: object"
      ]
     },
     "execution_count": 330,
     "metadata": {},
     "output_type": "execute_result"
    }
   ],
   "source": [
    "X"
   ]
  },
  {
   "cell_type": "code",
   "execution_count": 331,
   "id": "0ed6e0b7",
   "metadata": {},
   "outputs": [],
   "source": [
    "from sklearn.feature_extraction.text import TfidfVectorizer"
   ]
  },
  {
   "cell_type": "code",
   "execution_count": 332,
   "id": "4ee73925",
   "metadata": {},
   "outputs": [],
   "source": [
    "objTfid = TfidfVectorizer()"
   ]
  },
  {
   "cell_type": "code",
   "execution_count": 333,
   "id": "97d933c0",
   "metadata": {},
   "outputs": [],
   "source": [
    "varX = objTfid.fit_transform(X)"
   ]
  },
  {
   "cell_type": "code",
   "execution_count": 334,
   "id": "93dc6115",
   "metadata": {},
   "outputs": [
    {
     "name": "stdout",
     "output_type": "stream",
     "text": [
      "  (0, 671)\t0.24313585019257306\n",
      "  (0, 439)\t0.24313585019257306\n",
      "  (0, 3697)\t0.2114323049292964\n",
      "  (0, 821)\t0.11682352947654759\n",
      "  (0, 1008)\t0.24313585019257306\n",
      "  (0, 1146)\t0.22910680792419394\n",
      "  (0, 2090)\t0.1237667105601158\n",
      "  (0, 245)\t0.2114323049292964\n",
      "  (0, 851)\t0.16524143420085138\n",
      "  (0, 793)\t0.19979040742615584\n",
      "  (0, 2937)\t0.24313585019257306\n",
      "  (0, 537)\t0.24313585019257306\n",
      "  (0, 1913)\t0.22910680792419394\n",
      "  (0, 607)\t0.21915304402793215\n",
      "  (0, 319)\t0.14218134606559862\n",
      "  (0, 2407)\t0.36830355681521143\n",
      "  (0, 504)\t0.4582136158483879\n",
      "  (1, 783)\t0.4052090854499021\n",
      "  (1, 3077)\t0.4052090854499021\n",
      "  (1, 2714)\t0.3818283483730563\n",
      "  (1, 1441)\t0.4052090854499021\n",
      "  (1, 3926)\t0.36523945141691455\n",
      "  (1, 2606)\t0.31240246924634235\n",
      "  (1, 3883)\t0.26191944627409375\n",
      "  (1, 2257)\t0.24905209813650908\n",
      "  :\t:\n",
      "  (825, 603)\t0.2251053994296016\n",
      "  (825, 1000)\t0.2251053994296016\n",
      "  (825, 3597)\t0.21143109955979203\n",
      "  (825, 1894)\t0.23256374689752723\n",
      "  (825, 3434)\t0.2823645460073434\n",
      "  (825, 2674)\t0.16727034067939098\n",
      "  (826, 1415)\t0.5072502718570076\n",
      "  (826, 3267)\t0.4779817147976828\n",
      "  (826, 611)\t0.41681939706164955\n",
      "  (826, 3894)\t0.3527692885011933\n",
      "  (826, 3608)\t0.34474045005718396\n",
      "  (826, 2257)\t0.3117692791760498\n",
      "  (827, 1149)\t0.3240951511262933\n",
      "  (827, 2986)\t0.3240951511262933\n",
      "  (827, 135)\t0.3240951511262933\n",
      "  (827, 2336)\t0.3240951511262933\n",
      "  (827, 693)\t0.27342612904365143\n",
      "  (827, 3137)\t0.2601579638936774\n",
      "  (827, 3484)\t0.2601579638936774\n",
      "  (827, 3397)\t0.22818937027736944\n",
      "  (827, 1751)\t0.15755625351739372\n",
      "  (827, 2733)\t0.24547058118297907\n",
      "  (827, 467)\t0.23776589119170352\n",
      "  (827, 1932)\t0.38960311820067445\n",
      "  (827, 821)\t0.15572339254297768\n"
     ]
    }
   ],
   "source": [
    "print(varX)"
   ]
  },
  {
   "cell_type": "code",
   "execution_count": 335,
   "id": "ced84e4e",
   "metadata": {},
   "outputs": [],
   "source": [
    "Y = dftwitter['Target']"
   ]
  },
  {
   "cell_type": "code",
   "execution_count": 412,
   "id": "ca496bf9",
   "metadata": {},
   "outputs": [],
   "source": [
    "from sklearn.model_selection import train_test_split\n",
    "x_train, x_test, y_train, y_test = train_test_split(varX, Y, test_size=0.25, random_state=0)"
   ]
  },
  {
   "cell_type": "code",
   "execution_count": 413,
   "id": "5c06584e",
   "metadata": {},
   "outputs": [
    {
     "data": {
      "text/plain": [
       "<621x4052 sparse matrix of type '<class 'numpy.float64'>'\n",
       "\twith 8328 stored elements in Compressed Sparse Row format>"
      ]
     },
     "execution_count": 413,
     "metadata": {},
     "output_type": "execute_result"
    }
   ],
   "source": [
    "x_train"
   ]
  },
  {
   "cell_type": "code",
   "execution_count": 414,
   "id": "a56d2c1f",
   "metadata": {},
   "outputs": [],
   "source": [
    "from sklearn.linear_model import LogisticRegression"
   ]
  },
  {
   "cell_type": "code",
   "execution_count": 415,
   "id": "b6e31663",
   "metadata": {},
   "outputs": [],
   "source": [
    "logisticRegr = LogisticRegression()"
   ]
  },
  {
   "cell_type": "code",
   "execution_count": 416,
   "id": "4f907b4c",
   "metadata": {},
   "outputs": [
    {
     "data": {
      "text/plain": [
       "LogisticRegression()"
      ]
     },
     "execution_count": 416,
     "metadata": {},
     "output_type": "execute_result"
    }
   ],
   "source": [
    "logisticRegr.fit(x_train, y_train)\n"
   ]
  },
  {
   "cell_type": "code",
   "execution_count": 417,
   "id": "34bdf53d",
   "metadata": {},
   "outputs": [
    {
     "data": {
      "text/plain": [
       "array([ 1,  1, -1,  0,  0,  1, -1, -1,  0,  1,  0, -1,  1, -1,  1,  0, -1,\n",
       "        0,  0,  0,  0,  1,  1,  1,  1,  1, -1,  0, -1, -1,  1,  1, -1, -1,\n",
       "       -1,  0, -1,  0, -1, -1,  1,  1,  1,  1, -1,  0, -1,  0, -1, -1,  1,\n",
       "        0, -1,  1,  1, -1,  1, -1,  1,  0,  1,  1, -1, -1,  0,  1,  0,  0,\n",
       "        0, -1,  0, -1, -1,  0,  0,  0, -1,  1, -1,  0,  0,  1,  1,  0,  0,\n",
       "        1,  0,  0,  0, -1,  0,  1,  0,  0, -1,  1,  0,  1, -1, -1,  1,  0,\n",
       "       -1,  1, -1,  0,  0,  1,  1,  1,  0,  0,  1,  1,  1, -1, -1,  1, -1,\n",
       "        0,  1,  0,  0,  0,  0,  1,  1,  0, -1,  1,  0,  1,  1,  0,  0, -1,\n",
       "        0,  0,  0,  0,  1, -1,  1,  0, -1,  1,  0,  1, -1, -1, -1, -1,  0,\n",
       "        1, -1,  1,  0,  1, -1,  0, -1, -1, -1,  1,  1,  1,  0, -1,  1,  0,\n",
       "        1,  1,  0, -1,  1,  1,  1,  1,  1,  0, -1, -1, -1,  1, -1, -1, -1,\n",
       "        0,  1, -1,  1,  1,  0,  1, -1,  0,  1,  0,  0,  1,  0, -1,  0,  0,\n",
       "       -1,  1,  0], dtype=int64)"
      ]
     },
     "execution_count": 417,
     "metadata": {},
     "output_type": "execute_result"
    }
   ],
   "source": [
    "logisticRegr.predict(x_test)"
   ]
  },
  {
   "cell_type": "code",
   "execution_count": 418,
   "id": "727b7ad0",
   "metadata": {},
   "outputs": [
    {
     "name": "stdout",
     "output_type": "stream",
     "text": [
      "0.6183574879227053\n"
     ]
    }
   ],
   "source": [
    "score = logisticRegr.score(x_test, y_test)\n",
    "print(score)"
   ]
  },
  {
   "cell_type": "code",
   "execution_count": 419,
   "id": "904c7fc9",
   "metadata": {},
   "outputs": [],
   "source": [
    "from sklearn.tree import DecisionTreeClassifier"
   ]
  },
  {
   "cell_type": "code",
   "execution_count": 420,
   "id": "a02bf3fb",
   "metadata": {},
   "outputs": [],
   "source": [
    "# Function to perform training with giniIndex.\n",
    "def train_using_gini(X_train, X_test, y_train):\n",
    "  \n",
    "    # Creating the classifier object\n",
    "    clf_gini = DecisionTreeClassifier(criterion = \"gini\",\n",
    "            random_state = 1,max_depth=3, min_samples_leaf=5)\n",
    "  \n",
    "    # Performing training\n",
    "    clf_gini.fit(X_train, y_train)\n",
    "    return clf_gini"
   ]
  },
  {
   "cell_type": "code",
   "execution_count": 421,
   "id": "2cc71e05",
   "metadata": {},
   "outputs": [
    {
     "data": {
      "text/plain": [
       "DecisionTreeClassifier(max_depth=3, min_samples_leaf=5, random_state=1)"
      ]
     },
     "execution_count": 421,
     "metadata": {},
     "output_type": "execute_result"
    }
   ],
   "source": [
    "train_using_gini(x_train, x_test, y_train)"
   ]
  },
  {
   "cell_type": "code",
   "execution_count": 422,
   "id": "fde7cc9f",
   "metadata": {},
   "outputs": [],
   "source": [
    "# Function to make predictions\n",
    "def prediction(X_test, clf_object):\n",
    "  \n",
    "    # Predicton on test with giniIndex\n",
    "    y_pred = clf_object.predict(X_test)\n",
    "    print(\"Predicted values:\")\n",
    "    print(y_pred)\n",
    "    return y_pred"
   ]
  },
  {
   "cell_type": "code",
   "execution_count": 423,
   "id": "93c0f50a",
   "metadata": {},
   "outputs": [
    {
     "name": "stdout",
     "output_type": "stream",
     "text": [
      "Predicted values:\n",
      "[-1 -1  0 -1 -1 -1 -1 -1  0 -1  0 -1 -1 -1  1 -1 -1 -1  0 -1  0 -1  0  0\n",
      " -1 -1 -1  0  1 -1 -1 -1  0 -1 -1 -1 -1 -1 -1 -1 -1  0 -1 -1 -1  0 -1  0\n",
      " -1 -1  0 -1 -1 -1 -1 -1 -1 -1 -1 -1 -1 -1 -1 -1 -1 -1  0 -1 -1 -1  0 -1\n",
      "  0  0 -1 -1 -1 -1 -1  0  0 -1  0 -1  0  0 -1  0 -1 -1  0  0  0 -1 -1 -1\n",
      " -1  0 -1 -1  0 -1 -1 -1 -1  0 -1 -1 -1 -1 -1 -1 -1  1  0 -1 -1 -1 -1  0\n",
      "  0  0 -1  0  0 -1 -1 -1 -1  0  0 -1 -1  0  0 -1  0 -1 -1 -1 -1 -1  0 -1\n",
      "  0 -1  0  1 -1  0 -1 -1 -1  0  0  0  0 -1 -1 -1 -1 -1 -1  0 -1 -1 -1 -1\n",
      " -1  0 -1  1 -1 -1  0  0 -1 -1 -1  0 -1 -1 -1 -1 -1  0 -1  0 -1 -1 -1 -1\n",
      "  0 -1 -1  0  0 -1  0 -1 -1 -1  0  0 -1 -1  0]\n"
     ]
    }
   ],
   "source": [
    "y_pred =prediction(x_test, train_using_gini(x_train, x_test, y_train))"
   ]
  },
  {
   "cell_type": "code",
   "execution_count": 424,
   "id": "dc00444e",
   "metadata": {},
   "outputs": [],
   "source": [
    "from sklearn.metrics import confusion_matrix,accuracy_score\n"
   ]
  },
  {
   "cell_type": "code",
   "execution_count": 425,
   "id": "d4fb9bfb",
   "metadata": {},
   "outputs": [
    {
     "data": {
      "text/plain": [
       "array([[56,  7,  1],\n",
       "       [37, 32,  0],\n",
       "       [47, 23,  4]], dtype=int64)"
      ]
     },
     "execution_count": 425,
     "metadata": {},
     "output_type": "execute_result"
    }
   ],
   "source": [
    "confusion_matrix(y_test, y_pred)"
   ]
  },
  {
   "cell_type": "code",
   "execution_count": 426,
   "id": "c9553745",
   "metadata": {},
   "outputs": [
    {
     "data": {
      "text/plain": [
       "44.44444444444444"
      ]
     },
     "execution_count": 426,
     "metadata": {},
     "output_type": "execute_result"
    }
   ],
   "source": [
    " accuracy_score(y_test,y_pred)*100"
   ]
  },
  {
   "cell_type": "code",
   "execution_count": 427,
   "id": "b79148db",
   "metadata": {},
   "outputs": [],
   "source": [
    "from sklearn.svm import SVC  \n",
    "clf = SVC(kernel='linear') "
   ]
  },
  {
   "cell_type": "code",
   "execution_count": 428,
   "id": "a03150f2",
   "metadata": {},
   "outputs": [
    {
     "data": {
      "text/plain": [
       "SVC(kernel='linear')"
      ]
     },
     "execution_count": 428,
     "metadata": {},
     "output_type": "execute_result"
    }
   ],
   "source": [
    "# fitting x samples and y classes \n",
    "clf.fit(x_train, y_train) "
   ]
  },
  {
   "cell_type": "code",
   "execution_count": 429,
   "id": "ae1fe958",
   "metadata": {},
   "outputs": [],
   "source": [
    "y_predsvc = clf.predict(x_test)"
   ]
  },
  {
   "cell_type": "code",
   "execution_count": 430,
   "id": "dc0b81a0",
   "metadata": {},
   "outputs": [
    {
     "data": {
      "text/plain": [
       "58.93719806763285"
      ]
     },
     "execution_count": 430,
     "metadata": {},
     "output_type": "execute_result"
    }
   ],
   "source": [
    "accuracy_score(y_test,y_predsvc)*100"
   ]
  },
  {
   "cell_type": "code",
   "execution_count": null,
   "id": "a589c24c",
   "metadata": {},
   "outputs": [],
   "source": []
  }
 ],
 "metadata": {
  "kernelspec": {
   "display_name": "Python 3 (ipykernel)",
   "language": "python",
   "name": "python3"
  },
  "language_info": {
   "codemirror_mode": {
    "name": "ipython",
    "version": 3
   },
   "file_extension": ".py",
   "mimetype": "text/x-python",
   "name": "python",
   "nbconvert_exporter": "python",
   "pygments_lexer": "ipython3",
   "version": "3.9.12"
  }
 },
 "nbformat": 4,
 "nbformat_minor": 5
}
