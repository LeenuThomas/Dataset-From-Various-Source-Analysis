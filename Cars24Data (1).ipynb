{
 "cells": [
  {
   "cell_type": "code",
   "execution_count": 217,
   "id": "8e140540",
   "metadata": {},
   "outputs": [],
   "source": [
    "import pandas as pd\n",
    "import datetime as dt\n",
    "import seaborn as sns\n",
    "from sklearn.model_selection import train_test_split\n",
    "from sklearn.preprocessing import LabelEncoder\n",
    "\n",
    "from sklearn.svm import SVR\n",
    "from sklearn.linear_model import LinearRegression, RANSACRegressor\n",
    "from sklearn.tree import DecisionTreeRegressor\n",
    "from sklearn.ensemble import RandomForestRegressor, AdaBoostRegressor\n",
    "\n",
    "from sklearn.metrics import mean_absolute_error, mean_squared_error, r2_score"
   ]
  },
  {
   "cell_type": "code",
   "execution_count": 168,
   "id": "7fde5d23",
   "metadata": {},
   "outputs": [],
   "source": [
    "dfCars = pd.read_csv(r'C:\\Leenu\\DataSet From Kaggle\\archive (17)\\cars_24_combined.csv')"
   ]
  },
  {
   "cell_type": "code",
   "execution_count": 169,
   "id": "39d7e489",
   "metadata": {},
   "outputs": [
    {
     "data": {
      "text/html": [
       "<div>\n",
       "<style scoped>\n",
       "    .dataframe tbody tr th:only-of-type {\n",
       "        vertical-align: middle;\n",
       "    }\n",
       "\n",
       "    .dataframe tbody tr th {\n",
       "        vertical-align: top;\n",
       "    }\n",
       "\n",
       "    .dataframe thead th {\n",
       "        text-align: right;\n",
       "    }\n",
       "</style>\n",
       "<table border=\"1\" class=\"dataframe\">\n",
       "  <thead>\n",
       "    <tr style=\"text-align: right;\">\n",
       "      <th></th>\n",
       "      <th>Unnamed: 0</th>\n",
       "      <th>Car Name</th>\n",
       "      <th>Year</th>\n",
       "      <th>Distance</th>\n",
       "      <th>Owner</th>\n",
       "      <th>Fuel</th>\n",
       "      <th>Location</th>\n",
       "      <th>Drive</th>\n",
       "      <th>Type</th>\n",
       "      <th>Price</th>\n",
       "    </tr>\n",
       "  </thead>\n",
       "  <tbody>\n",
       "    <tr>\n",
       "      <th>3981</th>\n",
       "      <td>3981</td>\n",
       "      <td>Tata NEXON</td>\n",
       "      <td>2020.0</td>\n",
       "      <td>58343</td>\n",
       "      <td>1</td>\n",
       "      <td>PETROL</td>\n",
       "      <td>GJ-02</td>\n",
       "      <td>Manual</td>\n",
       "      <td>SUV</td>\n",
       "      <td>966000</td>\n",
       "    </tr>\n",
       "    <tr>\n",
       "      <th>358</th>\n",
       "      <td>358</td>\n",
       "      <td>Volkswagen Vento</td>\n",
       "      <td>2020.0</td>\n",
       "      <td>22192</td>\n",
       "      <td>2</td>\n",
       "      <td>PETROL</td>\n",
       "      <td>TS-07</td>\n",
       "      <td>Manual</td>\n",
       "      <td>Sedan</td>\n",
       "      <td>809000</td>\n",
       "    </tr>\n",
       "    <tr>\n",
       "      <th>7330</th>\n",
       "      <td>7330</td>\n",
       "      <td>Maruti Ertiga</td>\n",
       "      <td>2012.0</td>\n",
       "      <td>98413</td>\n",
       "      <td>2</td>\n",
       "      <td>DIESEL</td>\n",
       "      <td>KA-51</td>\n",
       "      <td>Manual</td>\n",
       "      <td>SUV</td>\n",
       "      <td>602000</td>\n",
       "    </tr>\n",
       "    <tr>\n",
       "      <th>5260</th>\n",
       "      <td>5260</td>\n",
       "      <td>Hyundai New Elantra</td>\n",
       "      <td>2015.0</td>\n",
       "      <td>109686</td>\n",
       "      <td>1</td>\n",
       "      <td>PETROL</td>\n",
       "      <td>NaN</td>\n",
       "      <td>Automatic</td>\n",
       "      <td>Lux_sedan</td>\n",
       "      <td>625000</td>\n",
       "    </tr>\n",
       "    <tr>\n",
       "      <th>3719</th>\n",
       "      <td>3719</td>\n",
       "      <td>Hyundai Grand i10</td>\n",
       "      <td>2018.0</td>\n",
       "      <td>61189</td>\n",
       "      <td>1</td>\n",
       "      <td>PETROL</td>\n",
       "      <td>MP-15</td>\n",
       "      <td>Manual</td>\n",
       "      <td>HatchBack</td>\n",
       "      <td>443000</td>\n",
       "    </tr>\n",
       "    <tr>\n",
       "      <th>1123</th>\n",
       "      <td>1123</td>\n",
       "      <td>Mahindra Kuv100</td>\n",
       "      <td>2016.0</td>\n",
       "      <td>109428</td>\n",
       "      <td>1</td>\n",
       "      <td>DIESEL</td>\n",
       "      <td>MH-12</td>\n",
       "      <td>Manual</td>\n",
       "      <td>SUV</td>\n",
       "      <td>363000</td>\n",
       "    </tr>\n",
       "    <tr>\n",
       "      <th>4280</th>\n",
       "      <td>4280</td>\n",
       "      <td>Hyundai Eon</td>\n",
       "      <td>2018.0</td>\n",
       "      <td>86198</td>\n",
       "      <td>2</td>\n",
       "      <td>PETROL</td>\n",
       "      <td>KA-02</td>\n",
       "      <td>Manual</td>\n",
       "      <td>HatchBack</td>\n",
       "      <td>307000</td>\n",
       "    </tr>\n",
       "    <tr>\n",
       "      <th>4181</th>\n",
       "      <td>4181</td>\n",
       "      <td>Tata Tiago</td>\n",
       "      <td>2020.0</td>\n",
       "      <td>23116</td>\n",
       "      <td>1</td>\n",
       "      <td>PETROL</td>\n",
       "      <td>MH-03</td>\n",
       "      <td>Automatic</td>\n",
       "      <td>HatchBack</td>\n",
       "      <td>618000</td>\n",
       "    </tr>\n",
       "    <tr>\n",
       "      <th>3819</th>\n",
       "      <td>3819</td>\n",
       "      <td>Honda Amaze</td>\n",
       "      <td>2019.0</td>\n",
       "      <td>94218</td>\n",
       "      <td>1</td>\n",
       "      <td>DIESEL</td>\n",
       "      <td>KA-02</td>\n",
       "      <td>Manual</td>\n",
       "      <td>Sedan</td>\n",
       "      <td>611000</td>\n",
       "    </tr>\n",
       "    <tr>\n",
       "      <th>4480</th>\n",
       "      <td>4480</td>\n",
       "      <td>Hyundai i20</td>\n",
       "      <td>2013.0</td>\n",
       "      <td>73301</td>\n",
       "      <td>2</td>\n",
       "      <td>PETROL</td>\n",
       "      <td>DL-3C</td>\n",
       "      <td>Manual</td>\n",
       "      <td>HatchBack</td>\n",
       "      <td>294000</td>\n",
       "    </tr>\n",
       "  </tbody>\n",
       "</table>\n",
       "</div>"
      ],
      "text/plain": [
       "      Unnamed: 0             Car Name    Year  Distance  Owner    Fuel  \\\n",
       "3981        3981           Tata NEXON  2020.0     58343      1  PETROL   \n",
       "358          358     Volkswagen Vento  2020.0     22192      2  PETROL   \n",
       "7330        7330        Maruti Ertiga  2012.0     98413      2  DIESEL   \n",
       "5260        5260  Hyundai New Elantra  2015.0    109686      1  PETROL   \n",
       "3719        3719    Hyundai Grand i10  2018.0     61189      1  PETROL   \n",
       "1123        1123      Mahindra Kuv100  2016.0    109428      1  DIESEL   \n",
       "4280        4280          Hyundai Eon  2018.0     86198      2  PETROL   \n",
       "4181        4181           Tata Tiago  2020.0     23116      1  PETROL   \n",
       "3819        3819          Honda Amaze  2019.0     94218      1  DIESEL   \n",
       "4480        4480          Hyundai i20  2013.0     73301      2  PETROL   \n",
       "\n",
       "     Location      Drive       Type   Price  \n",
       "3981    GJ-02     Manual        SUV  966000  \n",
       "358     TS-07     Manual      Sedan  809000  \n",
       "7330    KA-51     Manual        SUV  602000  \n",
       "5260      NaN  Automatic  Lux_sedan  625000  \n",
       "3719    MP-15     Manual  HatchBack  443000  \n",
       "1123    MH-12     Manual        SUV  363000  \n",
       "4280    KA-02     Manual  HatchBack  307000  \n",
       "4181    MH-03  Automatic  HatchBack  618000  \n",
       "3819    KA-02     Manual      Sedan  611000  \n",
       "4480    DL-3C     Manual  HatchBack  294000  "
      ]
     },
     "execution_count": 169,
     "metadata": {},
     "output_type": "execute_result"
    }
   ],
   "source": [
    "dfCars.sample(10)"
   ]
  },
  {
   "cell_type": "code",
   "execution_count": 170,
   "id": "8ad6d216",
   "metadata": {},
   "outputs": [
    {
     "data": {
      "text/plain": [
       "(8015, 10)"
      ]
     },
     "execution_count": 170,
     "metadata": {},
     "output_type": "execute_result"
    }
   ],
   "source": [
    "dfCars.shape"
   ]
  },
  {
   "cell_type": "code",
   "execution_count": 171,
   "id": "1e2b0b89",
   "metadata": {},
   "outputs": [
    {
     "name": "stdout",
     "output_type": "stream",
     "text": [
      "<class 'pandas.core.frame.DataFrame'>\n",
      "RangeIndex: 8015 entries, 0 to 8014\n",
      "Data columns (total 10 columns):\n",
      " #   Column      Non-Null Count  Dtype  \n",
      "---  ------      --------------  -----  \n",
      " 0   Unnamed: 0  8015 non-null   int64  \n",
      " 1   Car Name    8014 non-null   object \n",
      " 2   Year        8014 non-null   float64\n",
      " 3   Distance    8015 non-null   int64  \n",
      " 4   Owner       8015 non-null   int64  \n",
      " 5   Fuel        8015 non-null   object \n",
      " 6   Location    7802 non-null   object \n",
      " 7   Drive       8015 non-null   object \n",
      " 8   Type        8015 non-null   object \n",
      " 9   Price       8015 non-null   int64  \n",
      "dtypes: float64(1), int64(4), object(5)\n",
      "memory usage: 626.3+ KB\n"
     ]
    }
   ],
   "source": [
    "dfCars.info()"
   ]
  },
  {
   "cell_type": "code",
   "execution_count": 172,
   "id": "62d5d7b3",
   "metadata": {},
   "outputs": [
    {
     "data": {
      "text/plain": [
       "Unnamed: 0      0\n",
       "Car Name        1\n",
       "Year            1\n",
       "Distance        0\n",
       "Owner           0\n",
       "Fuel            0\n",
       "Location      213\n",
       "Drive           0\n",
       "Type            0\n",
       "Price           0\n",
       "dtype: int64"
      ]
     },
     "execution_count": 172,
     "metadata": {},
     "output_type": "execute_result"
    }
   ],
   "source": [
    "dfCars.isnull().sum()"
   ]
  },
  {
   "cell_type": "code",
   "execution_count": 173,
   "id": "2d467026",
   "metadata": {},
   "outputs": [
    {
     "data": {
      "text/html": [
       "<div>\n",
       "<style scoped>\n",
       "    .dataframe tbody tr th:only-of-type {\n",
       "        vertical-align: middle;\n",
       "    }\n",
       "\n",
       "    .dataframe tbody tr th {\n",
       "        vertical-align: top;\n",
       "    }\n",
       "\n",
       "    .dataframe thead th {\n",
       "        text-align: right;\n",
       "    }\n",
       "</style>\n",
       "<table border=\"1\" class=\"dataframe\">\n",
       "  <thead>\n",
       "    <tr style=\"text-align: right;\">\n",
       "      <th></th>\n",
       "      <th>Unnamed: 0</th>\n",
       "      <th>Year</th>\n",
       "      <th>Distance</th>\n",
       "      <th>Owner</th>\n",
       "      <th>Price</th>\n",
       "    </tr>\n",
       "  </thead>\n",
       "  <tbody>\n",
       "    <tr>\n",
       "      <th>count</th>\n",
       "      <td>8015.000000</td>\n",
       "      <td>8014.000000</td>\n",
       "      <td>8015.000000</td>\n",
       "      <td>8015.000000</td>\n",
       "      <td>8.015000e+03</td>\n",
       "    </tr>\n",
       "    <tr>\n",
       "      <th>mean</th>\n",
       "      <td>4007.000000</td>\n",
       "      <td>2016.995009</td>\n",
       "      <td>52621.411728</td>\n",
       "      <td>1.300187</td>\n",
       "      <td>5.748829e+05</td>\n",
       "    </tr>\n",
       "    <tr>\n",
       "      <th>std</th>\n",
       "      <td>2313.875537</td>\n",
       "      <td>2.861454</td>\n",
       "      <td>29182.922728</td>\n",
       "      <td>0.510893</td>\n",
       "      <td>2.651049e+05</td>\n",
       "    </tr>\n",
       "    <tr>\n",
       "      <th>min</th>\n",
       "      <td>0.000000</td>\n",
       "      <td>2010.000000</td>\n",
       "      <td>0.000000</td>\n",
       "      <td>1.000000</td>\n",
       "      <td>1.190000e+05</td>\n",
       "    </tr>\n",
       "    <tr>\n",
       "      <th>25%</th>\n",
       "      <td>2003.500000</td>\n",
       "      <td>2015.000000</td>\n",
       "      <td>30730.000000</td>\n",
       "      <td>1.000000</td>\n",
       "      <td>3.930000e+05</td>\n",
       "    </tr>\n",
       "    <tr>\n",
       "      <th>50%</th>\n",
       "      <td>4007.000000</td>\n",
       "      <td>2017.000000</td>\n",
       "      <td>50359.000000</td>\n",
       "      <td>1.000000</td>\n",
       "      <td>5.350000e+05</td>\n",
       "    </tr>\n",
       "    <tr>\n",
       "      <th>75%</th>\n",
       "      <td>6010.500000</td>\n",
       "      <td>2019.000000</td>\n",
       "      <td>71762.000000</td>\n",
       "      <td>2.000000</td>\n",
       "      <td>6.980000e+05</td>\n",
       "    </tr>\n",
       "    <tr>\n",
       "      <th>max</th>\n",
       "      <td>8014.000000</td>\n",
       "      <td>2023.000000</td>\n",
       "      <td>971212.000000</td>\n",
       "      <td>4.000000</td>\n",
       "      <td>3.300000e+06</td>\n",
       "    </tr>\n",
       "  </tbody>\n",
       "</table>\n",
       "</div>"
      ],
      "text/plain": [
       "        Unnamed: 0         Year       Distance        Owner         Price\n",
       "count  8015.000000  8014.000000    8015.000000  8015.000000  8.015000e+03\n",
       "mean   4007.000000  2016.995009   52621.411728     1.300187  5.748829e+05\n",
       "std    2313.875537     2.861454   29182.922728     0.510893  2.651049e+05\n",
       "min       0.000000  2010.000000       0.000000     1.000000  1.190000e+05\n",
       "25%    2003.500000  2015.000000   30730.000000     1.000000  3.930000e+05\n",
       "50%    4007.000000  2017.000000   50359.000000     1.000000  5.350000e+05\n",
       "75%    6010.500000  2019.000000   71762.000000     2.000000  6.980000e+05\n",
       "max    8014.000000  2023.000000  971212.000000     4.000000  3.300000e+06"
      ]
     },
     "execution_count": 173,
     "metadata": {},
     "output_type": "execute_result"
    }
   ],
   "source": [
    "dfCars.describe()"
   ]
  },
  {
   "cell_type": "code",
   "execution_count": 174,
   "id": "6619fbdf",
   "metadata": {},
   "outputs": [
    {
     "data": {
      "text/plain": [
       "Unnamed: 0      int64\n",
       "Car Name       object\n",
       "Year          float64\n",
       "Distance        int64\n",
       "Owner           int64\n",
       "Fuel           object\n",
       "Location       object\n",
       "Drive          object\n",
       "Type           object\n",
       "Price           int64\n",
       "dtype: object"
      ]
     },
     "execution_count": 174,
     "metadata": {},
     "output_type": "execute_result"
    }
   ],
   "source": [
    "dfCars.dtypes"
   ]
  },
  {
   "cell_type": "code",
   "execution_count": 175,
   "id": "c09cc8b7",
   "metadata": {},
   "outputs": [],
   "source": [
    "dfCars.Year =dfCars.Year.fillna(value= dfCars.Year.mean())"
   ]
  },
  {
   "cell_type": "code",
   "execution_count": 176,
   "id": "8b123f5e",
   "metadata": {},
   "outputs": [],
   "source": [
    "#dfCars['Year'] =pd.to_datetime(dfCars['Year'],format='%Y')\n",
    "\n",
    "dfCars['Year'] = dfCars['Year'].astype(int)"
   ]
  },
  {
   "cell_type": "code",
   "execution_count": 177,
   "id": "bab77114",
   "metadata": {},
   "outputs": [
    {
     "data": {
      "text/plain": [
       "array(['Maruti S PRESSO', 'Hyundai Xcent', 'Tata Safari',\n",
       "       'Maruti Vitara Brezza', 'Tata Tiago', 'Maruti Swift',\n",
       "       'Hyundai i20', 'Renault Kwid', 'Hyundai Grand i10', 'Maruti IGNIS',\n",
       "       'Honda Brio', 'Hyundai Elite i20', 'Honda City', 'Maruti Baleno',\n",
       "       'Honda WR-V', 'Honda Amaze', 'Maruti Alto 800', 'Maruti Celerio',\n",
       "       'Ford Ecosport', 'Maruti Ciaz', 'Datsun Redi Go', 'Tata TIAGO NRG',\n",
       "       'Hyundai Santro Xing', 'Ford FREESTYLE', 'Maruti Dzire',\n",
       "       'Maruti Alto', 'Hyundai NEW SANTRO', 'Maruti Alto K10',\n",
       "       'Ford Endeavour', 'Maruti Swift Dzire', 'Maruti Wagon R 1.0',\n",
       "       'Hyundai GRAND I10 NIOS', 'Maruti Celerio X',\n",
       "       'Toyota URBAN CRUISER', 'Mahindra XUV500', 'Hyundai Verna',\n",
       "       'Hyundai VENUE', 'Tata NEXON', 'Mahindra KUV 100 NXT',\n",
       "       'Toyota YARIS', 'Mahindra XUV 3OO', 'Renault TRIBER',\n",
       "       'Hyundai Tucson New', 'Mahindra TUV300', 'Toyota Glanza',\n",
       "       'Maruti Eeco', 'Renault Duster', 'Hyundai i10', 'Nissan MAGNITE',\n",
       "       'KIA SONET', 'Maruti Ertiga', 'Honda Jazz', 'KIA SELTOS',\n",
       "       'Volkswagen Ameo', 'Renault Kiger', 'Honda Accord',\n",
       "       'Hyundai NEW I20', 'Tata ALTROZ', 'Maruti A Star', 'Maruti Ritz',\n",
       "       'Nissan Micra', 'Hyundai Eon', 'Hyundai Creta', 'Mahindra Bolero',\n",
       "       'Toyota Etios Liva', 'Maruti New Wagon-R', 'Nissan Micra Active',\n",
       "       'Tata Harrier', 'Tata TIGOR', 'Tata PUNCH', 'Volkswagen Polo',\n",
       "       'Toyota Camry', 'Toyota Corolla Altis', 'Honda Civic',\n",
       "       'Volkswagen Vento', 'Maruti S Cross', 'Skoda Octavia',\n",
       "       'Hyundai i20 Active', 'Hyundai New Elantra', 'Honda BR-V',\n",
       "       'Hyundai AURA', 'Mahindra Thar', 'Maruti Zen Estilo',\n",
       "       'Hyundai NEW I20 N LINE', 'Tata Hexa', 'Maruti XL6', 'Honda CRV',\n",
       "       'Toyota Innova', 'Skoda Rapid', 'Datsun Go',\n",
       "       'Maruti Wagon R Stingray', 'Volkswagen TIGUAN', 'Toyota Etios',\n",
       "       'Tata Zest', 'Ford New Figo', 'Mahindra Kuv100', 'Skoda SLAVIA',\n",
       "       'Mahindra Scorpio', 'Nissan Terrano', 'Volkswagen TAIGUN',\n",
       "       'Renault Captur', 'Mahindra XUV700', 'Hyundai Sonata',\n",
       "       'Mahindra BOLERO NEO', 'Maruti BREZZA', 'Datsun Go Plus',\n",
       "       'Hyundai ALCAZAR', 'BMW 3 Series', 'Jeep Compass',\n",
       "       'Toyota Innova Crysta', 'KIA CARENS', 'Skoda KUSHAQ',\n",
       "       'Volkswagen Jetta', 'Renault Pulse', 'Ford Figo Aspire',\n",
       "       'Maruti Wagon R', 'Mahindra TUV 300 PLUS', 'MG HECTOR PLUS',\n",
       "       'Tata Bolt', nan, 'MG HECTOR', 'Volkswagen T-ROC', 'Maruti OMNI E',\n",
       "       'Jeep GRAND CHEROKEE', 'Toyota Fortuner', 'Mahindra MARAZZO',\n",
       "       'Nissan Sunny'], dtype=object)"
      ]
     },
     "execution_count": 177,
     "metadata": {},
     "output_type": "execute_result"
    }
   ],
   "source": [
    "dfCars['Car Name'].unique()"
   ]
  },
  {
   "cell_type": "code",
   "execution_count": 178,
   "id": "fc4e9792",
   "metadata": {},
   "outputs": [
    {
     "data": {
      "text/html": [
       "<div>\n",
       "<style scoped>\n",
       "    .dataframe tbody tr th:only-of-type {\n",
       "        vertical-align: middle;\n",
       "    }\n",
       "\n",
       "    .dataframe tbody tr th {\n",
       "        vertical-align: top;\n",
       "    }\n",
       "\n",
       "    .dataframe thead th {\n",
       "        text-align: right;\n",
       "    }\n",
       "</style>\n",
       "<table border=\"1\" class=\"dataframe\">\n",
       "  <thead>\n",
       "    <tr style=\"text-align: right;\">\n",
       "      <th></th>\n",
       "      <th>Unnamed: 0</th>\n",
       "      <th>Car Name</th>\n",
       "      <th>Year</th>\n",
       "      <th>Distance</th>\n",
       "      <th>Owner</th>\n",
       "      <th>Fuel</th>\n",
       "      <th>Location</th>\n",
       "      <th>Drive</th>\n",
       "      <th>Type</th>\n",
       "      <th>Price</th>\n",
       "    </tr>\n",
       "  </thead>\n",
       "  <tbody>\n",
       "    <tr>\n",
       "      <th>0</th>\n",
       "      <td>0</td>\n",
       "      <td>Maruti S PRESSO</td>\n",
       "      <td>2022</td>\n",
       "      <td>3878</td>\n",
       "      <td>1</td>\n",
       "      <td>PETROL</td>\n",
       "      <td>HR-98</td>\n",
       "      <td>Manual</td>\n",
       "      <td>HatchBack</td>\n",
       "      <td>514000</td>\n",
       "    </tr>\n",
       "    <tr>\n",
       "      <th>11</th>\n",
       "      <td>11</td>\n",
       "      <td>Maruti S PRESSO</td>\n",
       "      <td>2019</td>\n",
       "      <td>30347</td>\n",
       "      <td>1</td>\n",
       "      <td>PETROL</td>\n",
       "      <td>MH-48</td>\n",
       "      <td>Automatic</td>\n",
       "      <td>HatchBack</td>\n",
       "      <td>481000</td>\n",
       "    </tr>\n",
       "    <tr>\n",
       "      <th>311</th>\n",
       "      <td>311</td>\n",
       "      <td>Maruti S PRESSO</td>\n",
       "      <td>2022</td>\n",
       "      <td>5787</td>\n",
       "      <td>1</td>\n",
       "      <td>PETROL</td>\n",
       "      <td>GJ-17</td>\n",
       "      <td>Manual</td>\n",
       "      <td>HatchBack</td>\n",
       "      <td>444000</td>\n",
       "    </tr>\n",
       "    <tr>\n",
       "      <th>609</th>\n",
       "      <td>609</td>\n",
       "      <td>Maruti S PRESSO</td>\n",
       "      <td>2021</td>\n",
       "      <td>24447</td>\n",
       "      <td>1</td>\n",
       "      <td>CNG</td>\n",
       "      <td>UP-32</td>\n",
       "      <td>Manual</td>\n",
       "      <td>HatchBack</td>\n",
       "      <td>554000</td>\n",
       "    </tr>\n",
       "    <tr>\n",
       "      <th>632</th>\n",
       "      <td>632</td>\n",
       "      <td>Maruti S PRESSO</td>\n",
       "      <td>2021</td>\n",
       "      <td>16563</td>\n",
       "      <td>1</td>\n",
       "      <td>PETROL</td>\n",
       "      <td>PB-27</td>\n",
       "      <td>Manual</td>\n",
       "      <td>HatchBack</td>\n",
       "      <td>462000</td>\n",
       "    </tr>\n",
       "    <tr>\n",
       "      <th>...</th>\n",
       "      <td>...</td>\n",
       "      <td>...</td>\n",
       "      <td>...</td>\n",
       "      <td>...</td>\n",
       "      <td>...</td>\n",
       "      <td>...</td>\n",
       "      <td>...</td>\n",
       "      <td>...</td>\n",
       "      <td>...</td>\n",
       "      <td>...</td>\n",
       "    </tr>\n",
       "    <tr>\n",
       "      <th>7475</th>\n",
       "      <td>7475</td>\n",
       "      <td>Maruti S PRESSO</td>\n",
       "      <td>2019</td>\n",
       "      <td>65546</td>\n",
       "      <td>1</td>\n",
       "      <td>PETROL</td>\n",
       "      <td>MP-09</td>\n",
       "      <td>Manual</td>\n",
       "      <td>HatchBack</td>\n",
       "      <td>419000</td>\n",
       "    </tr>\n",
       "    <tr>\n",
       "      <th>7512</th>\n",
       "      <td>7512</td>\n",
       "      <td>Maruti S PRESSO</td>\n",
       "      <td>2021</td>\n",
       "      <td>42954</td>\n",
       "      <td>1</td>\n",
       "      <td>PETROL</td>\n",
       "      <td>KA-52</td>\n",
       "      <td>Manual</td>\n",
       "      <td>HatchBack</td>\n",
       "      <td>488000</td>\n",
       "    </tr>\n",
       "    <tr>\n",
       "      <th>7737</th>\n",
       "      <td>7737</td>\n",
       "      <td>Maruti S PRESSO</td>\n",
       "      <td>2021</td>\n",
       "      <td>29235</td>\n",
       "      <td>1</td>\n",
       "      <td>PETROL</td>\n",
       "      <td>GJ-27</td>\n",
       "      <td>Manual</td>\n",
       "      <td>HatchBack</td>\n",
       "      <td>473000</td>\n",
       "    </tr>\n",
       "    <tr>\n",
       "      <th>7808</th>\n",
       "      <td>7808</td>\n",
       "      <td>Maruti S PRESSO</td>\n",
       "      <td>2020</td>\n",
       "      <td>47417</td>\n",
       "      <td>1</td>\n",
       "      <td>CNG</td>\n",
       "      <td>MH-14</td>\n",
       "      <td>Manual</td>\n",
       "      <td>HatchBack</td>\n",
       "      <td>440000</td>\n",
       "    </tr>\n",
       "    <tr>\n",
       "      <th>7998</th>\n",
       "      <td>7998</td>\n",
       "      <td>Maruti S PRESSO</td>\n",
       "      <td>2022</td>\n",
       "      <td>12216</td>\n",
       "      <td>1</td>\n",
       "      <td>CNG</td>\n",
       "      <td>HR-26</td>\n",
       "      <td>Manual</td>\n",
       "      <td>HatchBack</td>\n",
       "      <td>506000</td>\n",
       "    </tr>\n",
       "  </tbody>\n",
       "</table>\n",
       "<p>95 rows × 10 columns</p>\n",
       "</div>"
      ],
      "text/plain": [
       "      Unnamed: 0         Car Name  Year  Distance  Owner    Fuel Location  \\\n",
       "0              0  Maruti S PRESSO  2022      3878      1  PETROL    HR-98   \n",
       "11            11  Maruti S PRESSO  2019     30347      1  PETROL    MH-48   \n",
       "311          311  Maruti S PRESSO  2022      5787      1  PETROL    GJ-17   \n",
       "609          609  Maruti S PRESSO  2021     24447      1     CNG    UP-32   \n",
       "632          632  Maruti S PRESSO  2021     16563      1  PETROL    PB-27   \n",
       "...          ...              ...   ...       ...    ...     ...      ...   \n",
       "7475        7475  Maruti S PRESSO  2019     65546      1  PETROL    MP-09   \n",
       "7512        7512  Maruti S PRESSO  2021     42954      1  PETROL    KA-52   \n",
       "7737        7737  Maruti S PRESSO  2021     29235      1  PETROL    GJ-27   \n",
       "7808        7808  Maruti S PRESSO  2020     47417      1     CNG    MH-14   \n",
       "7998        7998  Maruti S PRESSO  2022     12216      1     CNG    HR-26   \n",
       "\n",
       "          Drive       Type   Price  \n",
       "0        Manual  HatchBack  514000  \n",
       "11    Automatic  HatchBack  481000  \n",
       "311      Manual  HatchBack  444000  \n",
       "609      Manual  HatchBack  554000  \n",
       "632      Manual  HatchBack  462000  \n",
       "...         ...        ...     ...  \n",
       "7475     Manual  HatchBack  419000  \n",
       "7512     Manual  HatchBack  488000  \n",
       "7737     Manual  HatchBack  473000  \n",
       "7808     Manual  HatchBack  440000  \n",
       "7998     Manual  HatchBack  506000  \n",
       "\n",
       "[95 rows x 10 columns]"
      ]
     },
     "execution_count": 178,
     "metadata": {},
     "output_type": "execute_result"
    }
   ],
   "source": [
    "dfCars[dfCars['Car Name'] == 'Maruti S PRESSO']"
   ]
  },
  {
   "cell_type": "code",
   "execution_count": 179,
   "id": "4b0ef7c6",
   "metadata": {},
   "outputs": [
    {
     "name": "stderr",
     "output_type": "stream",
     "text": [
      "C:\\ProgramData\\Anaconda3\\lib\\site-packages\\seaborn\\_decorators.py:36: FutureWarning: Pass the following variable as a keyword arg: x. From version 0.12, the only valid positional argument will be `data`, and passing other arguments without an explicit keyword will result in an error or misinterpretation.\n",
      "  warnings.warn(\n"
     ]
    },
    {
     "data": {
      "text/plain": [
       "<AxesSubplot:xlabel='Car Name', ylabel='count'>"
      ]
     },
     "execution_count": 179,
     "metadata": {},
     "output_type": "execute_result"
    },
    {
     "data": {
      "image/png": "[encoded data removed]",
      "text/plain": [
       "<Figure size 432x288 with 1 Axes>"
      ]
     },
     "metadata": {
      "needs_background": "light"
     },
     "output_type": "display_data"
    }
   ],
   "source": [
    "sns.countplot(dfCars['Car Name'])"
   ]
  },
  {
   "cell_type": "code",
   "execution_count": 180,
   "id": "8278b4af",
   "metadata": {},
   "outputs": [
    {
     "data": {
      "text/html": [
       "<div>\n",
       "<style scoped>\n",
       "    .dataframe tbody tr th:only-of-type {\n",
       "        vertical-align: middle;\n",
       "    }\n",
       "\n",
       "    .dataframe tbody tr th {\n",
       "        vertical-align: top;\n",
       "    }\n",
       "\n",
       "    .dataframe thead th {\n",
       "        text-align: right;\n",
       "    }\n",
       "</style>\n",
       "<table border=\"1\" class=\"dataframe\">\n",
       "  <thead>\n",
       "    <tr style=\"text-align: right;\">\n",
       "      <th></th>\n",
       "      <th>Unnamed: 0</th>\n",
       "      <th>Year</th>\n",
       "      <th>Distance</th>\n",
       "      <th>Owner</th>\n",
       "      <th>Price</th>\n",
       "    </tr>\n",
       "  </thead>\n",
       "  <tbody>\n",
       "    <tr>\n",
       "      <th>Unnamed: 0</th>\n",
       "      <td>1.000000</td>\n",
       "      <td>-0.003671</td>\n",
       "      <td>-0.000674</td>\n",
       "      <td>0.019931</td>\n",
       "      <td>-0.006814</td>\n",
       "    </tr>\n",
       "    <tr>\n",
       "      <th>Year</th>\n",
       "      <td>-0.003671</td>\n",
       "      <td>1.000000</td>\n",
       "      <td>-0.371690</td>\n",
       "      <td>-0.212095</td>\n",
       "      <td>0.501837</td>\n",
       "    </tr>\n",
       "    <tr>\n",
       "      <th>Distance</th>\n",
       "      <td>-0.000674</td>\n",
       "      <td>-0.371690</td>\n",
       "      <td>1.000000</td>\n",
       "      <td>0.137670</td>\n",
       "      <td>-0.198950</td>\n",
       "    </tr>\n",
       "    <tr>\n",
       "      <th>Owner</th>\n",
       "      <td>0.019931</td>\n",
       "      <td>-0.212095</td>\n",
       "      <td>0.137670</td>\n",
       "      <td>1.000000</td>\n",
       "      <td>-0.149925</td>\n",
       "    </tr>\n",
       "    <tr>\n",
       "      <th>Price</th>\n",
       "      <td>-0.006814</td>\n",
       "      <td>0.501837</td>\n",
       "      <td>-0.198950</td>\n",
       "      <td>-0.149925</td>\n",
       "      <td>1.000000</td>\n",
       "    </tr>\n",
       "  </tbody>\n",
       "</table>\n",
       "</div>"
      ],
      "text/plain": [
       "            Unnamed: 0      Year  Distance     Owner     Price\n",
       "Unnamed: 0    1.000000 -0.003671 -0.000674  0.019931 -0.006814\n",
       "Year         -0.003671  1.000000 -0.371690 -0.212095  0.501837\n",
       "Distance     -0.000674 -0.371690  1.000000  0.137670 -0.198950\n",
       "Owner         0.019931 -0.212095  0.137670  1.000000 -0.149925\n",
       "Price        -0.006814  0.501837 -0.198950 -0.149925  1.000000"
      ]
     },
     "execution_count": 180,
     "metadata": {},
     "output_type": "execute_result"
    }
   ],
   "source": [
    "dfCars.corr()"
   ]
  },
  {
   "cell_type": "code",
   "execution_count": 181,
   "id": "78805290",
   "metadata": {},
   "outputs": [
    {
     "data": {
      "text/plain": [
       "<AxesSubplot:>"
      ]
     },
     "execution_count": 181,
     "metadata": {},
     "output_type": "execute_result"
    },
    {
     "data": {
      "image/png": "[encoded data removed]",
      "text/plain": [
       "<Figure size 432x288 with 2 Axes>"
      ]
     },
     "metadata": {
      "needs_background": "light"
     },
     "output_type": "display_data"
    }
   ],
   "source": [
    "sns.heatmap(dfCars.corr(),annot=True)"
   ]
  },
  {
   "cell_type": "code",
   "execution_count": 182,
   "id": "91b77f1d",
   "metadata": {},
   "outputs": [
    {
     "data": {
      "text/plain": [
       "Index(['Unnamed: 0', 'Car Name', 'Year', 'Distance', 'Owner', 'Fuel',\n",
       "       'Location', 'Drive', 'Type', 'Price'],\n",
       "      dtype='object')"
      ]
     },
     "execution_count": 182,
     "metadata": {},
     "output_type": "execute_result"
    }
   ],
   "source": [
    "dfCars.columns"
   ]
  },
  {
   "cell_type": "code",
   "execution_count": 183,
   "id": "f18d73c5",
   "metadata": {},
   "outputs": [],
   "source": [
    "Fuel =LabelEncoder()\n",
    "dfCars.Fuel =Fuel.fit_transform(dfCars.Fuel)\n",
    "\n",
    "Drive =LabelEncoder()\n",
    "dfCars.Drive =Fuel.fit_transform(dfCars.Drive)\n",
    "\n",
    "Type =LabelEncoder()\n",
    "dfCars.Type =Fuel.fit_transform(dfCars.Type)"
   ]
  },
  {
   "cell_type": "code",
   "execution_count": 184,
   "id": "ab9711bc",
   "metadata": {},
   "outputs": [
    {
     "data": {
      "text/html": [
       "<div>\n",
       "<style scoped>\n",
       "    .dataframe tbody tr th:only-of-type {\n",
       "        vertical-align: middle;\n",
       "    }\n",
       "\n",
       "    .dataframe tbody tr th {\n",
       "        vertical-align: top;\n",
       "    }\n",
       "\n",
       "    .dataframe thead th {\n",
       "        text-align: right;\n",
       "    }\n",
       "</style>\n",
       "<table border=\"1\" class=\"dataframe\">\n",
       "  <thead>\n",
       "    <tr style=\"text-align: right;\">\n",
       "      <th></th>\n",
       "      <th>Unnamed: 0</th>\n",
       "      <th>Car Name</th>\n",
       "      <th>Year</th>\n",
       "      <th>Distance</th>\n",
       "      <th>Owner</th>\n",
       "      <th>Fuel</th>\n",
       "      <th>Location</th>\n",
       "      <th>Drive</th>\n",
       "      <th>Type</th>\n",
       "      <th>Price</th>\n",
       "    </tr>\n",
       "  </thead>\n",
       "  <tbody>\n",
       "    <tr>\n",
       "      <th>0</th>\n",
       "      <td>0</td>\n",
       "      <td>Maruti S PRESSO</td>\n",
       "      <td>2022</td>\n",
       "      <td>3878</td>\n",
       "      <td>1</td>\n",
       "      <td>3</td>\n",
       "      <td>HR-98</td>\n",
       "      <td>1</td>\n",
       "      <td>0</td>\n",
       "      <td>514000</td>\n",
       "    </tr>\n",
       "    <tr>\n",
       "      <th>1</th>\n",
       "      <td>1</td>\n",
       "      <td>Hyundai Xcent</td>\n",
       "      <td>2018</td>\n",
       "      <td>32041</td>\n",
       "      <td>1</td>\n",
       "      <td>3</td>\n",
       "      <td>TN-22</td>\n",
       "      <td>1</td>\n",
       "      <td>4</td>\n",
       "      <td>674000</td>\n",
       "    </tr>\n",
       "    <tr>\n",
       "      <th>2</th>\n",
       "      <td>2</td>\n",
       "      <td>Tata Safari</td>\n",
       "      <td>2021</td>\n",
       "      <td>96339</td>\n",
       "      <td>1</td>\n",
       "      <td>1</td>\n",
       "      <td>TS-08</td>\n",
       "      <td>0</td>\n",
       "      <td>3</td>\n",
       "      <td>1952000</td>\n",
       "    </tr>\n",
       "    <tr>\n",
       "      <th>3</th>\n",
       "      <td>3</td>\n",
       "      <td>Maruti Vitara Brezza</td>\n",
       "      <td>2019</td>\n",
       "      <td>51718</td>\n",
       "      <td>1</td>\n",
       "      <td>1</td>\n",
       "      <td>WB-24</td>\n",
       "      <td>1</td>\n",
       "      <td>3</td>\n",
       "      <td>690000</td>\n",
       "    </tr>\n",
       "    <tr>\n",
       "      <th>4</th>\n",
       "      <td>4</td>\n",
       "      <td>Tata Tiago</td>\n",
       "      <td>2021</td>\n",
       "      <td>19811</td>\n",
       "      <td>1</td>\n",
       "      <td>3</td>\n",
       "      <td>HR-51</td>\n",
       "      <td>1</td>\n",
       "      <td>0</td>\n",
       "      <td>526000</td>\n",
       "    </tr>\n",
       "  </tbody>\n",
       "</table>\n",
       "</div>"
      ],
      "text/plain": [
       "   Unnamed: 0              Car Name  Year  Distance  Owner  Fuel Location  \\\n",
       "0           0       Maruti S PRESSO  2022      3878      1     3    HR-98   \n",
       "1           1         Hyundai Xcent  2018     32041      1     3    TN-22   \n",
       "2           2           Tata Safari  2021     96339      1     1    TS-08   \n",
       "3           3  Maruti Vitara Brezza  2019     51718      1     1    WB-24   \n",
       "4           4            Tata Tiago  2021     19811      1     3    HR-51   \n",
       "\n",
       "   Drive  Type    Price  \n",
       "0      1     0   514000  \n",
       "1      1     4   674000  \n",
       "2      0     3  1952000  \n",
       "3      1     3   690000  \n",
       "4      1     0   526000  "
      ]
     },
     "execution_count": 184,
     "metadata": {},
     "output_type": "execute_result"
    }
   ],
   "source": [
    "dfCars.head()"
   ]
  },
  {
   "cell_type": "code",
   "execution_count": 185,
   "id": "69749889",
   "metadata": {},
   "outputs": [
    {
     "data": {
      "text/html": [
       "<div>\n",
       "<style scoped>\n",
       "    .dataframe tbody tr th:only-of-type {\n",
       "        vertical-align: middle;\n",
       "    }\n",
       "\n",
       "    .dataframe tbody tr th {\n",
       "        vertical-align: top;\n",
       "    }\n",
       "\n",
       "    .dataframe thead th {\n",
       "        text-align: right;\n",
       "    }\n",
       "</style>\n",
       "<table border=\"1\" class=\"dataframe\">\n",
       "  <thead>\n",
       "    <tr style=\"text-align: right;\">\n",
       "      <th></th>\n",
       "      <th>Unnamed: 0</th>\n",
       "      <th>Car Name</th>\n",
       "      <th>Year</th>\n",
       "      <th>Distance</th>\n",
       "      <th>Owner</th>\n",
       "      <th>Fuel</th>\n",
       "      <th>Location</th>\n",
       "      <th>Drive</th>\n",
       "      <th>Type</th>\n",
       "      <th>Price</th>\n",
       "    </tr>\n",
       "  </thead>\n",
       "  <tbody>\n",
       "    <tr>\n",
       "      <th>0</th>\n",
       "      <td>0</td>\n",
       "      <td>Maruti S PRESSO</td>\n",
       "      <td>2022</td>\n",
       "      <td>3878</td>\n",
       "      <td>1</td>\n",
       "      <td>3</td>\n",
       "      <td>HR-98</td>\n",
       "      <td>1</td>\n",
       "      <td>0</td>\n",
       "      <td>514000</td>\n",
       "    </tr>\n",
       "    <tr>\n",
       "      <th>1</th>\n",
       "      <td>1</td>\n",
       "      <td>Hyundai Xcent</td>\n",
       "      <td>2018</td>\n",
       "      <td>32041</td>\n",
       "      <td>1</td>\n",
       "      <td>3</td>\n",
       "      <td>TN-22</td>\n",
       "      <td>1</td>\n",
       "      <td>4</td>\n",
       "      <td>674000</td>\n",
       "    </tr>\n",
       "    <tr>\n",
       "      <th>2</th>\n",
       "      <td>2</td>\n",
       "      <td>Tata Safari</td>\n",
       "      <td>2021</td>\n",
       "      <td>96339</td>\n",
       "      <td>1</td>\n",
       "      <td>1</td>\n",
       "      <td>TS-08</td>\n",
       "      <td>0</td>\n",
       "      <td>3</td>\n",
       "      <td>1952000</td>\n",
       "    </tr>\n",
       "    <tr>\n",
       "      <th>3</th>\n",
       "      <td>3</td>\n",
       "      <td>Maruti Vitara Brezza</td>\n",
       "      <td>2019</td>\n",
       "      <td>51718</td>\n",
       "      <td>1</td>\n",
       "      <td>1</td>\n",
       "      <td>WB-24</td>\n",
       "      <td>1</td>\n",
       "      <td>3</td>\n",
       "      <td>690000</td>\n",
       "    </tr>\n",
       "    <tr>\n",
       "      <th>4</th>\n",
       "      <td>4</td>\n",
       "      <td>Tata Tiago</td>\n",
       "      <td>2021</td>\n",
       "      <td>19811</td>\n",
       "      <td>1</td>\n",
       "      <td>3</td>\n",
       "      <td>HR-51</td>\n",
       "      <td>1</td>\n",
       "      <td>0</td>\n",
       "      <td>526000</td>\n",
       "    </tr>\n",
       "    <tr>\n",
       "      <th>...</th>\n",
       "      <td>...</td>\n",
       "      <td>...</td>\n",
       "      <td>...</td>\n",
       "      <td>...</td>\n",
       "      <td>...</td>\n",
       "      <td>...</td>\n",
       "      <td>...</td>\n",
       "      <td>...</td>\n",
       "      <td>...</td>\n",
       "      <td>...</td>\n",
       "    </tr>\n",
       "    <tr>\n",
       "      <th>8010</th>\n",
       "      <td>8010</td>\n",
       "      <td>Datsun Redi Go</td>\n",
       "      <td>2018</td>\n",
       "      <td>11500</td>\n",
       "      <td>1</td>\n",
       "      <td>3</td>\n",
       "      <td>MH-01</td>\n",
       "      <td>1</td>\n",
       "      <td>0</td>\n",
       "      <td>292000</td>\n",
       "    </tr>\n",
       "    <tr>\n",
       "      <th>8011</th>\n",
       "      <td>8011</td>\n",
       "      <td>Toyota YARIS</td>\n",
       "      <td>2018</td>\n",
       "      <td>73393</td>\n",
       "      <td>2</td>\n",
       "      <td>3</td>\n",
       "      <td>KA-03</td>\n",
       "      <td>1</td>\n",
       "      <td>4</td>\n",
       "      <td>534000</td>\n",
       "    </tr>\n",
       "    <tr>\n",
       "      <th>8012</th>\n",
       "      <td>8012</td>\n",
       "      <td>Volkswagen Ameo</td>\n",
       "      <td>2016</td>\n",
       "      <td>83810</td>\n",
       "      <td>2</td>\n",
       "      <td>3</td>\n",
       "      <td>UP-78</td>\n",
       "      <td>1</td>\n",
       "      <td>4</td>\n",
       "      <td>424000</td>\n",
       "    </tr>\n",
       "    <tr>\n",
       "      <th>8013</th>\n",
       "      <td>8013</td>\n",
       "      <td>Hyundai GRAND I10 NIOS</td>\n",
       "      <td>2019</td>\n",
       "      <td>39162</td>\n",
       "      <td>1</td>\n",
       "      <td>3</td>\n",
       "      <td>CH-01</td>\n",
       "      <td>0</td>\n",
       "      <td>0</td>\n",
       "      <td>685000</td>\n",
       "    </tr>\n",
       "    <tr>\n",
       "      <th>8014</th>\n",
       "      <td>8014</td>\n",
       "      <td>Tata TIGOR</td>\n",
       "      <td>2022</td>\n",
       "      <td>82009</td>\n",
       "      <td>2</td>\n",
       "      <td>3</td>\n",
       "      <td>MH-02</td>\n",
       "      <td>1</td>\n",
       "      <td>4</td>\n",
       "      <td>392000</td>\n",
       "    </tr>\n",
       "  </tbody>\n",
       "</table>\n",
       "<p>8015 rows × 10 columns</p>\n",
       "</div>"
      ],
      "text/plain": [
       "      Unnamed: 0                Car Name  Year  Distance  Owner  Fuel  \\\n",
       "0              0         Maruti S PRESSO  2022      3878      1     3   \n",
       "1              1           Hyundai Xcent  2018     32041      1     3   \n",
       "2              2             Tata Safari  2021     96339      1     1   \n",
       "3              3    Maruti Vitara Brezza  2019     51718      1     1   \n",
       "4              4              Tata Tiago  2021     19811      1     3   \n",
       "...          ...                     ...   ...       ...    ...   ...   \n",
       "8010        8010          Datsun Redi Go  2018     11500      1     3   \n",
       "8011        8011            Toyota YARIS  2018     73393      2     3   \n",
       "8012        8012         Volkswagen Ameo  2016     83810      2     3   \n",
       "8013        8013  Hyundai GRAND I10 NIOS  2019     39162      1     3   \n",
       "8014        8014              Tata TIGOR  2022     82009      2     3   \n",
       "\n",
       "     Location  Drive  Type    Price  \n",
       "0       HR-98      1     0   514000  \n",
       "1       TN-22      1     4   674000  \n",
       "2       TS-08      0     3  1952000  \n",
       "3       WB-24      1     3   690000  \n",
       "4       HR-51      1     0   526000  \n",
       "...       ...    ...   ...      ...  \n",
       "8010    MH-01      1     0   292000  \n",
       "8011    KA-03      1     4   534000  \n",
       "8012    UP-78      1     4   424000  \n",
       "8013    CH-01      0     0   685000  \n",
       "8014    MH-02      1     4   392000  \n",
       "\n",
       "[8015 rows x 10 columns]"
      ]
     },
     "execution_count": 185,
     "metadata": {},
     "output_type": "execute_result"
    }
   ],
   "source": [
    "dfCars.drop_duplicates()"
   ]
  },
  {
   "cell_type": "code",
   "execution_count": 186,
   "id": "d43bc153",
   "metadata": {},
   "outputs": [],
   "source": [
    "dfCars.drop(['Unnamed: 0'], axis =1, inplace =True)"
   ]
  },
  {
   "cell_type": "code",
   "execution_count": 187,
   "id": "9ed4e576",
   "metadata": {},
   "outputs": [
    {
     "data": {
      "text/html": [
       "<div>\n",
       "<style scoped>\n",
       "    .dataframe tbody tr th:only-of-type {\n",
       "        vertical-align: middle;\n",
       "    }\n",
       "\n",
       "    .dataframe tbody tr th {\n",
       "        vertical-align: top;\n",
       "    }\n",
       "\n",
       "    .dataframe thead th {\n",
       "        text-align: right;\n",
       "    }\n",
       "</style>\n",
       "<table border=\"1\" class=\"dataframe\">\n",
       "  <thead>\n",
       "    <tr style=\"text-align: right;\">\n",
       "      <th></th>\n",
       "      <th>Car Name</th>\n",
       "      <th>Year</th>\n",
       "      <th>Distance</th>\n",
       "      <th>Owner</th>\n",
       "      <th>Fuel</th>\n",
       "      <th>Location</th>\n",
       "      <th>Drive</th>\n",
       "      <th>Type</th>\n",
       "      <th>Price</th>\n",
       "    </tr>\n",
       "  </thead>\n",
       "  <tbody>\n",
       "    <tr>\n",
       "      <th>0</th>\n",
       "      <td>Maruti S PRESSO</td>\n",
       "      <td>2022</td>\n",
       "      <td>3878</td>\n",
       "      <td>1</td>\n",
       "      <td>3</td>\n",
       "      <td>HR-98</td>\n",
       "      <td>1</td>\n",
       "      <td>0</td>\n",
       "      <td>514000</td>\n",
       "    </tr>\n",
       "    <tr>\n",
       "      <th>1</th>\n",
       "      <td>Hyundai Xcent</td>\n",
       "      <td>2018</td>\n",
       "      <td>32041</td>\n",
       "      <td>1</td>\n",
       "      <td>3</td>\n",
       "      <td>TN-22</td>\n",
       "      <td>1</td>\n",
       "      <td>4</td>\n",
       "      <td>674000</td>\n",
       "    </tr>\n",
       "    <tr>\n",
       "      <th>2</th>\n",
       "      <td>Tata Safari</td>\n",
       "      <td>2021</td>\n",
       "      <td>96339</td>\n",
       "      <td>1</td>\n",
       "      <td>1</td>\n",
       "      <td>TS-08</td>\n",
       "      <td>0</td>\n",
       "      <td>3</td>\n",
       "      <td>1952000</td>\n",
       "    </tr>\n",
       "    <tr>\n",
       "      <th>3</th>\n",
       "      <td>Maruti Vitara Brezza</td>\n",
       "      <td>2019</td>\n",
       "      <td>51718</td>\n",
       "      <td>1</td>\n",
       "      <td>1</td>\n",
       "      <td>WB-24</td>\n",
       "      <td>1</td>\n",
       "      <td>3</td>\n",
       "      <td>690000</td>\n",
       "    </tr>\n",
       "    <tr>\n",
       "      <th>4</th>\n",
       "      <td>Tata Tiago</td>\n",
       "      <td>2021</td>\n",
       "      <td>19811</td>\n",
       "      <td>1</td>\n",
       "      <td>3</td>\n",
       "      <td>HR-51</td>\n",
       "      <td>1</td>\n",
       "      <td>0</td>\n",
       "      <td>526000</td>\n",
       "    </tr>\n",
       "    <tr>\n",
       "      <th>...</th>\n",
       "      <td>...</td>\n",
       "      <td>...</td>\n",
       "      <td>...</td>\n",
       "      <td>...</td>\n",
       "      <td>...</td>\n",
       "      <td>...</td>\n",
       "      <td>...</td>\n",
       "      <td>...</td>\n",
       "      <td>...</td>\n",
       "    </tr>\n",
       "    <tr>\n",
       "      <th>8010</th>\n",
       "      <td>Datsun Redi Go</td>\n",
       "      <td>2018</td>\n",
       "      <td>11500</td>\n",
       "      <td>1</td>\n",
       "      <td>3</td>\n",
       "      <td>MH-01</td>\n",
       "      <td>1</td>\n",
       "      <td>0</td>\n",
       "      <td>292000</td>\n",
       "    </tr>\n",
       "    <tr>\n",
       "      <th>8011</th>\n",
       "      <td>Toyota YARIS</td>\n",
       "      <td>2018</td>\n",
       "      <td>73393</td>\n",
       "      <td>2</td>\n",
       "      <td>3</td>\n",
       "      <td>KA-03</td>\n",
       "      <td>1</td>\n",
       "      <td>4</td>\n",
       "      <td>534000</td>\n",
       "    </tr>\n",
       "    <tr>\n",
       "      <th>8012</th>\n",
       "      <td>Volkswagen Ameo</td>\n",
       "      <td>2016</td>\n",
       "      <td>83810</td>\n",
       "      <td>2</td>\n",
       "      <td>3</td>\n",
       "      <td>UP-78</td>\n",
       "      <td>1</td>\n",
       "      <td>4</td>\n",
       "      <td>424000</td>\n",
       "    </tr>\n",
       "    <tr>\n",
       "      <th>8013</th>\n",
       "      <td>Hyundai GRAND I10 NIOS</td>\n",
       "      <td>2019</td>\n",
       "      <td>39162</td>\n",
       "      <td>1</td>\n",
       "      <td>3</td>\n",
       "      <td>CH-01</td>\n",
       "      <td>0</td>\n",
       "      <td>0</td>\n",
       "      <td>685000</td>\n",
       "    </tr>\n",
       "    <tr>\n",
       "      <th>8014</th>\n",
       "      <td>Tata TIGOR</td>\n",
       "      <td>2022</td>\n",
       "      <td>82009</td>\n",
       "      <td>2</td>\n",
       "      <td>3</td>\n",
       "      <td>MH-02</td>\n",
       "      <td>1</td>\n",
       "      <td>4</td>\n",
       "      <td>392000</td>\n",
       "    </tr>\n",
       "  </tbody>\n",
       "</table>\n",
       "<p>8015 rows × 9 columns</p>\n",
       "</div>"
      ],
      "text/plain": [
       "                    Car Name  Year  Distance  Owner  Fuel Location  Drive  \\\n",
       "0            Maruti S PRESSO  2022      3878      1     3    HR-98      1   \n",
       "1              Hyundai Xcent  2018     32041      1     3    TN-22      1   \n",
       "2                Tata Safari  2021     96339      1     1    TS-08      0   \n",
       "3       Maruti Vitara Brezza  2019     51718      1     1    WB-24      1   \n",
       "4                 Tata Tiago  2021     19811      1     3    HR-51      1   \n",
       "...                      ...   ...       ...    ...   ...      ...    ...   \n",
       "8010          Datsun Redi Go  2018     11500      1     3    MH-01      1   \n",
       "8011            Toyota YARIS  2018     73393      2     3    KA-03      1   \n",
       "8012         Volkswagen Ameo  2016     83810      2     3    UP-78      1   \n",
       "8013  Hyundai GRAND I10 NIOS  2019     39162      1     3    CH-01      0   \n",
       "8014              Tata TIGOR  2022     82009      2     3    MH-02      1   \n",
       "\n",
       "      Type    Price  \n",
       "0        0   514000  \n",
       "1        4   674000  \n",
       "2        3  1952000  \n",
       "3        3   690000  \n",
       "4        0   526000  \n",
       "...    ...      ...  \n",
       "8010     0   292000  \n",
       "8011     4   534000  \n",
       "8012     4   424000  \n",
       "8013     0   685000  \n",
       "8014     4   392000  \n",
       "\n",
       "[8015 rows x 9 columns]"
      ]
     },
     "execution_count": 187,
     "metadata": {},
     "output_type": "execute_result"
    }
   ],
   "source": [
    "dfCars"
   ]
  },
  {
   "cell_type": "code",
   "execution_count": 188,
   "id": "56ae53fa",
   "metadata": {},
   "outputs": [],
   "source": [
    "CarName = LabelEncoder()\n",
    "dfCars['Car Name'] = CarName.fit_transform(dfCars['Car Name'])\n",
    "\n",
    "Location = LabelEncoder()\n",
    "dfCars['Location'] = CarName.fit_transform(dfCars['Location'])"
   ]
  },
  {
   "cell_type": "code",
   "execution_count": 189,
   "id": "39c744f6",
   "metadata": {},
   "outputs": [
    {
     "data": {
      "text/html": [
       "<div>\n",
       "<style scoped>\n",
       "    .dataframe tbody tr th:only-of-type {\n",
       "        vertical-align: middle;\n",
       "    }\n",
       "\n",
       "    .dataframe tbody tr th {\n",
       "        vertical-align: top;\n",
       "    }\n",
       "\n",
       "    .dataframe thead th {\n",
       "        text-align: right;\n",
       "    }\n",
       "</style>\n",
       "<table border=\"1\" class=\"dataframe\">\n",
       "  <thead>\n",
       "    <tr style=\"text-align: right;\">\n",
       "      <th></th>\n",
       "      <th>Car Name</th>\n",
       "      <th>Year</th>\n",
       "      <th>Distance</th>\n",
       "      <th>Owner</th>\n",
       "      <th>Fuel</th>\n",
       "      <th>Location</th>\n",
       "      <th>Drive</th>\n",
       "      <th>Type</th>\n",
       "      <th>Price</th>\n",
       "    </tr>\n",
       "  </thead>\n",
       "  <tbody>\n",
       "    <tr>\n",
       "      <th>0</th>\n",
       "      <td>74</td>\n",
       "      <td>2022</td>\n",
       "      <td>3878</td>\n",
       "      <td>1</td>\n",
       "      <td>3</td>\n",
       "      <td>102</td>\n",
       "      <td>1</td>\n",
       "      <td>0</td>\n",
       "      <td>514000</td>\n",
       "    </tr>\n",
       "    <tr>\n",
       "      <th>1</th>\n",
       "      <td>34</td>\n",
       "      <td>2018</td>\n",
       "      <td>32041</td>\n",
       "      <td>1</td>\n",
       "      <td>3</td>\n",
       "      <td>313</td>\n",
       "      <td>1</td>\n",
       "      <td>4</td>\n",
       "      <td>674000</td>\n",
       "    </tr>\n",
       "    <tr>\n",
       "      <th>2</th>\n",
       "      <td>104</td>\n",
       "      <td>2021</td>\n",
       "      <td>96339</td>\n",
       "      <td>1</td>\n",
       "      <td>1</td>\n",
       "      <td>368</td>\n",
       "      <td>0</td>\n",
       "      <td>3</td>\n",
       "      <td>1952000</td>\n",
       "    </tr>\n",
       "    <tr>\n",
       "      <th>3</th>\n",
       "      <td>77</td>\n",
       "      <td>2019</td>\n",
       "      <td>51718</td>\n",
       "      <td>1</td>\n",
       "      <td>1</td>\n",
       "      <td>425</td>\n",
       "      <td>1</td>\n",
       "      <td>3</td>\n",
       "      <td>690000</td>\n",
       "    </tr>\n",
       "    <tr>\n",
       "      <th>4</th>\n",
       "      <td>107</td>\n",
       "      <td>2021</td>\n",
       "      <td>19811</td>\n",
       "      <td>1</td>\n",
       "      <td>3</td>\n",
       "      <td>90</td>\n",
       "      <td>1</td>\n",
       "      <td>0</td>\n",
       "      <td>526000</td>\n",
       "    </tr>\n",
       "    <tr>\n",
       "      <th>...</th>\n",
       "      <td>...</td>\n",
       "      <td>...</td>\n",
       "      <td>...</td>\n",
       "      <td>...</td>\n",
       "      <td>...</td>\n",
       "      <td>...</td>\n",
       "      <td>...</td>\n",
       "      <td>...</td>\n",
       "      <td>...</td>\n",
       "    </tr>\n",
       "    <tr>\n",
       "      <th>8010</th>\n",
       "      <td>3</td>\n",
       "      <td>2018</td>\n",
       "      <td>11500</td>\n",
       "      <td>1</td>\n",
       "      <td>3</td>\n",
       "      <td>197</td>\n",
       "      <td>1</td>\n",
       "      <td>0</td>\n",
       "      <td>292000</td>\n",
       "    </tr>\n",
       "    <tr>\n",
       "      <th>8011</th>\n",
       "      <td>118</td>\n",
       "      <td>2018</td>\n",
       "      <td>73393</td>\n",
       "      <td>2</td>\n",
       "      <td>3</td>\n",
       "      <td>105</td>\n",
       "      <td>1</td>\n",
       "      <td>4</td>\n",
       "      <td>534000</td>\n",
       "    </tr>\n",
       "    <tr>\n",
       "      <th>8012</th>\n",
       "      <td>119</td>\n",
       "      <td>2016</td>\n",
       "      <td>83810</td>\n",
       "      <td>2</td>\n",
       "      <td>3</td>\n",
       "      <td>413</td>\n",
       "      <td>1</td>\n",
       "      <td>4</td>\n",
       "      <td>424000</td>\n",
       "    </tr>\n",
       "    <tr>\n",
       "      <th>8013</th>\n",
       "      <td>23</td>\n",
       "      <td>2019</td>\n",
       "      <td>39162</td>\n",
       "      <td>1</td>\n",
       "      <td>3</td>\n",
       "      <td>18</td>\n",
       "      <td>0</td>\n",
       "      <td>0</td>\n",
       "      <td>685000</td>\n",
       "    </tr>\n",
       "    <tr>\n",
       "      <th>8014</th>\n",
       "      <td>106</td>\n",
       "      <td>2022</td>\n",
       "      <td>82009</td>\n",
       "      <td>2</td>\n",
       "      <td>3</td>\n",
       "      <td>198</td>\n",
       "      <td>1</td>\n",
       "      <td>4</td>\n",
       "      <td>392000</td>\n",
       "    </tr>\n",
       "  </tbody>\n",
       "</table>\n",
       "<p>8015 rows × 9 columns</p>\n",
       "</div>"
      ],
      "text/plain": [
       "      Car Name  Year  Distance  Owner  Fuel  Location  Drive  Type    Price\n",
       "0           74  2022      3878      1     3       102      1     0   514000\n",
       "1           34  2018     32041      1     3       313      1     4   674000\n",
       "2          104  2021     96339      1     1       368      0     3  1952000\n",
       "3           77  2019     51718      1     1       425      1     3   690000\n",
       "4          107  2021     19811      1     3        90      1     0   526000\n",
       "...        ...   ...       ...    ...   ...       ...    ...   ...      ...\n",
       "8010         3  2018     11500      1     3       197      1     0   292000\n",
       "8011       118  2018     73393      2     3       105      1     4   534000\n",
       "8012       119  2016     83810      2     3       413      1     4   424000\n",
       "8013        23  2019     39162      1     3        18      0     0   685000\n",
       "8014       106  2022     82009      2     3       198      1     4   392000\n",
       "\n",
       "[8015 rows x 9 columns]"
      ]
     },
     "execution_count": 189,
     "metadata": {},
     "output_type": "execute_result"
    }
   ],
   "source": [
    "dfCars"
   ]
  },
  {
   "cell_type": "code",
   "execution_count": 190,
   "id": "b8d70213",
   "metadata": {},
   "outputs": [
    {
     "data": {
      "text/plain": [
       "<AxesSubplot:>"
      ]
     },
     "execution_count": 190,
     "metadata": {},
     "output_type": "execute_result"
    },
    {
     "data": {
      "image/png": "[encoded data removed]",
      "text/plain": [
       "<Figure size 432x288 with 2 Axes>"
      ]
     },
     "metadata": {
      "needs_background": "light"
     },
     "output_type": "display_data"
    }
   ],
   "source": [
    "sns.heatmap(dfCars.corr(),annot=True)"
   ]
  },
  {
   "cell_type": "code",
   "execution_count": 223,
   "id": "18e2cf18",
   "metadata": {},
   "outputs": [],
   "source": [
    "X = dfCars[['Location','Year', 'Type']]\n",
    "Y = dfCars['Price']"
   ]
  },
  {
   "cell_type": "code",
   "execution_count": 224,
   "id": "52ebb785",
   "metadata": {},
   "outputs": [],
   "source": [
    "X_train, X_test, y_train, y_test = train_test_split(X,Y,test_size= .25)"
   ]
  },
  {
   "cell_type": "code",
   "execution_count": 225,
   "id": "54e34c76",
   "metadata": {},
   "outputs": [
    {
     "data": {
      "text/plain": [
       "SVR()"
      ]
     },
     "execution_count": 225,
     "metadata": {},
     "output_type": "execute_result"
    }
   ],
   "source": [
    "modelSVR = SVR()\n",
    "modelSVR.fit(X_train,y_train)"
   ]
  },
  {
   "cell_type": "code",
   "execution_count": 226,
   "id": "213e1be6",
   "metadata": {},
   "outputs": [],
   "source": [
    "PredSVR = modelSVR.predict(X_test)"
   ]
  },
  {
   "cell_type": "code",
   "execution_count": 227,
   "id": "668743b3",
   "metadata": {},
   "outputs": [
    {
     "data": {
      "text/plain": [
       "-0.02123049817831446"
      ]
     },
     "execution_count": 227,
     "metadata": {},
     "output_type": "execute_result"
    }
   ],
   "source": [
    "r2_score(y_test, PredSVR)"
   ]
  },
  {
   "cell_type": "code",
   "execution_count": 228,
   "id": "a5c439a0",
   "metadata": {},
   "outputs": [
    {
     "data": {
      "text/plain": [
       "LinearRegression()"
      ]
     },
     "execution_count": 228,
     "metadata": {},
     "output_type": "execute_result"
    }
   ],
   "source": [
    "modelLR = LinearRegression()\n",
    "modelLR.fit(X_train,y_train)"
   ]
  },
  {
   "cell_type": "code",
   "execution_count": 229,
   "id": "f5eca8f9",
   "metadata": {},
   "outputs": [],
   "source": [
    "predLR = modelLR.predict(X_test)"
   ]
  },
  {
   "cell_type": "code",
   "execution_count": 230,
   "id": "486edd80",
   "metadata": {},
   "outputs": [
    {
     "data": {
      "text/plain": [
       "0.4016244349906709"
      ]
     },
     "execution_count": 230,
     "metadata": {},
     "output_type": "execute_result"
    }
   ],
   "source": [
    "r2_score(y_test, predLR)"
   ]
  },
  {
   "cell_type": "code",
   "execution_count": 231,
   "id": "c945eee8",
   "metadata": {},
   "outputs": [
    {
     "name": "stderr",
     "output_type": "stream",
     "text": [
      "C:\\ProgramData\\Anaconda3\\lib\\site-packages\\seaborn\\_decorators.py:36: FutureWarning: Pass the following variables as keyword args: x, y. From version 0.12, the only valid positional argument will be `data`, and passing other arguments without an explicit keyword will result in an error or misinterpretation.\n",
      "  warnings.warn(\n"
     ]
    },
    {
     "data": {
      "text/plain": [
       "<AxesSubplot:xlabel='Distance', ylabel='Price'>"
      ]
     },
     "execution_count": 231,
     "metadata": {},
     "output_type": "execute_result"
    },
    {
     "data": {
      "image/png": "[encoded data removed]",
      "text/plain": [
       "<Figure size 432x288 with 1 Axes>"
      ]
     },
     "metadata": {
      "needs_background": "light"
     },
     "output_type": "display_data"
    }
   ],
   "source": [
    "sns.regplot(dfCars['Distance'],dfCars['Price'])"
   ]
  },
  {
   "cell_type": "code",
   "execution_count": 232,
   "id": "8311704e",
   "metadata": {},
   "outputs": [
    {
     "name": "stderr",
     "output_type": "stream",
     "text": [
      "C:\\ProgramData\\Anaconda3\\lib\\site-packages\\seaborn\\_decorators.py:36: FutureWarning: Pass the following variables as keyword args: x, y. From version 0.12, the only valid positional argument will be `data`, and passing other arguments without an explicit keyword will result in an error or misinterpretation.\n",
      "  warnings.warn(\n"
     ]
    },
    {
     "data": {
      "text/plain": [
       "<AxesSubplot:xlabel='Fuel', ylabel='Price'>"
      ]
     },
     "execution_count": 232,
     "metadata": {},
     "output_type": "execute_result"
    },
    {
     "data": {
      "image/png": "[encoded data removed]",
      "text/plain": [
       "<Figure size 432x288 with 1 Axes>"
      ]
     },
     "metadata": {
      "needs_background": "light"
     },
     "output_type": "display_data"
    }
   ],
   "source": [
    "sns.regplot(dfCars['Fuel'],dfCars['Price'])"
   ]
  },
  {
   "cell_type": "code",
   "execution_count": 233,
   "id": "29f4e927",
   "metadata": {},
   "outputs": [
    {
     "data": {
      "text/plain": [
       "<AxesSubplot:xlabel='Fuel', ylabel='count'>"
      ]
     },
     "execution_count": 233,
     "metadata": {},
     "output_type": "execute_result"
    },
    {
     "data": {
      "image/png": "[encoded data removed]",
      "text/plain": [
       "<Figure size 432x288 with 1 Axes>"
      ]
     },
     "metadata": {
      "needs_background": "light"
     },
     "output_type": "display_data"
    }
   ],
   "source": [
    "sns.countplot(x ='Fuel', data = dfCars)"
   ]
  },
  {
   "cell_type": "code",
   "execution_count": 234,
   "id": "992822ed",
   "metadata": {},
   "outputs": [
    {
     "name": "stderr",
     "output_type": "stream",
     "text": [
      "C:\\ProgramData\\Anaconda3\\lib\\site-packages\\seaborn\\_decorators.py:36: FutureWarning: Pass the following variables as keyword args: x, y. From version 0.12, the only valid positional argument will be `data`, and passing other arguments without an explicit keyword will result in an error or misinterpretation.\n",
      "  warnings.warn(\n"
     ]
    },
    {
     "data": {
      "text/plain": [
       "<AxesSubplot:xlabel='Year', ylabel='Price'>"
      ]
     },
     "execution_count": 234,
     "metadata": {},
     "output_type": "execute_result"
    },
    {
     "data": {
      "image/png": "[encoded data removed]",
      "text/plain": [
       "<Figure size 432x288 with 1 Axes>"
      ]
     },
     "metadata": {
      "needs_background": "light"
     },
     "output_type": "display_data"
    }
   ],
   "source": [
    "sns.regplot(dfCars['Year'],dfCars['Price'])"
   ]
  },
  {
   "cell_type": "code",
   "execution_count": 235,
   "id": "0fcca87f",
   "metadata": {},
   "outputs": [
    {
     "name": "stderr",
     "output_type": "stream",
     "text": [
      "C:\\ProgramData\\Anaconda3\\lib\\site-packages\\seaborn\\_decorators.py:36: FutureWarning: Pass the following variables as keyword args: x, y. From version 0.12, the only valid positional argument will be `data`, and passing other arguments without an explicit keyword will result in an error or misinterpretation.\n",
      "  warnings.warn(\n"
     ]
    },
    {
     "data": {
      "text/plain": [
       "<AxesSubplot:xlabel='Location', ylabel='Price'>"
      ]
     },
     "execution_count": 235,
     "metadata": {},
     "output_type": "execute_result"
    },
    {
     "data": {
      "image/png": "[encoded data removed]",
      "text/plain": [
       "<Figure size 432x288 with 1 Axes>"
      ]
     },
     "metadata": {
      "needs_background": "light"
     },
     "output_type": "display_data"
    }
   ],
   "source": [
    "sns.regplot(dfCars['Location'],dfCars['Price'])"
   ]
  },
  {
   "cell_type": "code",
   "execution_count": 236,
   "id": "fa1c61b6",
   "metadata": {},
   "outputs": [
    {
     "name": "stderr",
     "output_type": "stream",
     "text": [
      "C:\\ProgramData\\Anaconda3\\lib\\site-packages\\seaborn\\_decorators.py:36: FutureWarning: Pass the following variables as keyword args: x, y. From version 0.12, the only valid positional argument will be `data`, and passing other arguments without an explicit keyword will result in an error or misinterpretation.\n",
      "  warnings.warn(\n"
     ]
    },
    {
     "data": {
      "text/plain": [
       "<AxesSubplot:xlabel='Type', ylabel='Price'>"
      ]
     },
     "execution_count": 236,
     "metadata": {},
     "output_type": "execute_result"
    },
    {
     "data": {
      "image/png": "[encoded data removed]",
      "text/plain": [
       "<Figure size 432x288 with 1 Axes>"
      ]
     },
     "metadata": {
      "needs_background": "light"
     },
     "output_type": "display_data"
    }
   ],
   "source": [
    "sns.regplot(dfCars['Type'],dfCars['Price'])"
   ]
  },
  {
   "cell_type": "code",
   "execution_count": 237,
   "id": "df9515da",
   "metadata": {},
   "outputs": [
    {
     "data": {
      "text/plain": [
       "RandomForestRegressor()"
      ]
     },
     "execution_count": 237,
     "metadata": {},
     "output_type": "execute_result"
    }
   ],
   "source": [
    "# Random Forest Regressor Algorithm\n",
    "modelRFR = RandomForestRegressor()\n",
    "modelRFR.fit(X_train,y_train)"
   ]
  },
  {
   "cell_type": "code",
   "execution_count": 238,
   "id": "c7e971a0",
   "metadata": {},
   "outputs": [],
   "source": [
    "predRFR = modelRFR.predict(X_test)"
   ]
  },
  {
   "cell_type": "code",
   "execution_count": 239,
   "id": "b85fd8ac",
   "metadata": {},
   "outputs": [
    {
     "data": {
      "text/plain": [
       "0.5142746200559551"
      ]
     },
     "execution_count": 239,
     "metadata": {},
     "output_type": "execute_result"
    }
   ],
   "source": [
    "r2_score(y_test,predRFR)"
   ]
  },
  {
   "cell_type": "code",
   "execution_count": 240,
   "id": "efda5b80",
   "metadata": {},
   "outputs": [
    {
     "data": {
      "text/plain": [
       "AdaBoostRegressor()"
      ]
     },
     "execution_count": 240,
     "metadata": {},
     "output_type": "execute_result"
    }
   ],
   "source": [
    "# AdaBoost Regressor Algorithm\n",
    "modelAdaBoost = AdaBoostRegressor()\n",
    "modelAdaBoost.fit(X_train,y_train)"
   ]
  },
  {
   "cell_type": "code",
   "execution_count": 241,
   "id": "688d2a88",
   "metadata": {},
   "outputs": [],
   "source": [
    "predAda = modelAdaBoost.predict(X_test)"
   ]
  },
  {
   "cell_type": "code",
   "execution_count": 242,
   "id": "96c1774f",
   "metadata": {},
   "outputs": [
    {
     "data": {
      "text/plain": [
       "0.5142746200559551"
      ]
     },
     "execution_count": 242,
     "metadata": {},
     "output_type": "execute_result"
    }
   ],
   "source": [
    "r2_score(y_test,predRFR)"
   ]
  },
  {
   "cell_type": "markdown",
   "id": "3eb2f506",
   "metadata": {},
   "source": [
    "RANSAC regression algorithm is useful for handling the outliers dataset. Instead of taking care of outliers using statistical and other techniques, one can use RANSAC regression algorithm which takes care of the outlier data."
   ]
  },
  {
   "cell_type": "code",
   "execution_count": 243,
   "id": "4a4a2e1e",
   "metadata": {},
   "outputs": [
    {
     "data": {
      "text/plain": [
       "RANSACRegressor()"
      ]
     },
     "execution_count": 243,
     "metadata": {},
     "output_type": "execute_result"
    }
   ],
   "source": [
    "modelRANS = RANSACRegressor()\n",
    "modelRANS.fit(X_train,y_train)"
   ]
  },
  {
   "cell_type": "code",
   "execution_count": 244,
   "id": "9c5daee6",
   "metadata": {},
   "outputs": [],
   "source": [
    "predRans = modelRANS.predict(X_test)"
   ]
  },
  {
   "cell_type": "code",
   "execution_count": 245,
   "id": "17a136a1",
   "metadata": {},
   "outputs": [
    {
     "data": {
      "text/plain": [
       "0.14597946181843946"
      ]
     },
     "execution_count": 245,
     "metadata": {},
     "output_type": "execute_result"
    }
   ],
   "source": [
    "r2_score(y_test, predRans)"
   ]
  },
  {
   "cell_type": "code",
   "execution_count": null,
   "id": "0cd4c9b6",
   "metadata": {},
   "outputs": [],
   "source": []
  },
  {
   "cell_type": "code",
   "execution_count": null,
   "id": "bad09f86",
   "metadata": {},
   "outputs": [],
   "source": []
  }
 ],
 "metadata": {
  "kernelspec": {
   "display_name": "Python 3 (ipykernel)",
   "language": "python",
   "name": "python3"
  },
  "language_info": {
   "codemirror_mode": {
    "name": "ipython",
    "version": 3
   },
   "file_extension": ".py",
   "mimetype": "text/x-python",
   "name": "python",
   "nbconvert_exporter": "python",
   "pygments_lexer": "ipython3",
   "version": "3.9.12"
  }
 },
 "nbformat": 4,
 "nbformat_minor": 5
}
